{
  "nbformat": 4,
  "nbformat_minor": 0,
  "metadata": {
    "kernelspec": {
      "display_name": "Python 3",
      "language": "python",
      "name": "python3"
    },
    "language_info": {
      "codemirror_mode": {
        "name": "ipython",
        "version": 3
      },
      "file_extension": ".py",
      "mimetype": "text/x-python",
      "name": "python",
      "nbconvert_exporter": "python",
      "pygments_lexer": "ipython3",
      "version": "3.5.7"
    },
    "colab": {
      "name": "deepRL.ipynb",
      "provenance": []
    }
  },
  "cells": [
    {
      "cell_type": "markdown",
      "metadata": {
        "id": "g6os7P72gfT5",
        "colab_type": "text"
      },
      "source": [
        "**You may need to install [OpenCV](https://pypi.python.org/pypi/opencv-python) and [scikit-video](http://www.scikit-video.org/stable/).**"
      ]
    },
    {
      "cell_type": "code",
      "metadata": {
        "id": "i9ZQndNshB7w",
        "colab_type": "code",
        "colab": {
          "base_uri": "https://localhost:8080/",
          "height": 173
        },
        "outputId": "92d1e7fb-bb5f-4113-f998-71033a99575e"
      },
      "source": [
        "!pip install scikit-video"
      ],
      "execution_count": 2,
      "outputs": [
        {
          "output_type": "stream",
          "text": [
            "Collecting scikit-video\n",
            "\u001b[?25l  Downloading https://files.pythonhosted.org/packages/b1/a6/c69cad508139a342810ae46e946ebb3256aa6e42f690d901bb68f50582e3/scikit_video-1.1.11-py2.py3-none-any.whl (2.3MB)\n",
            "\u001b[K     |████████████████████████████████| 2.3MB 2.8MB/s \n",
            "\u001b[?25hRequirement already satisfied: scipy in /usr/local/lib/python3.6/dist-packages (from scikit-video) (1.4.1)\n",
            "Requirement already satisfied: numpy in /usr/local/lib/python3.6/dist-packages (from scikit-video) (1.17.5)\n",
            "Requirement already satisfied: pillow in /usr/local/lib/python3.6/dist-packages (from scikit-video) (6.2.2)\n",
            "Installing collected packages: scikit-video\n",
            "Successfully installed scikit-video-1.1.11\n"
          ],
          "name": "stdout"
        }
      ]
    },
    {
      "cell_type": "code",
      "metadata": {
        "id": "U4KdccWCgfT8",
        "colab_type": "code",
        "colab": {
          "base_uri": "https://localhost:8080/",
          "height": 80
        },
        "outputId": "cbbe6451-dc5c-4d07-cc2d-82a0f79198e0"
      },
      "source": [
        "import keras\n",
        "import numpy as np\n",
        "import io\n",
        "import base64\n",
        "from IPython.display import HTML\n",
        "import skvideo.io\n",
        "import cv2\n",
        "import json\n",
        "\n",
        "from keras.models import Sequential,model_from_json\n",
        "from keras.layers.core import Dense\n",
        "from keras.optimizers import sgd, adam\n",
        "from keras.layers import Conv2D, MaxPooling2D, Activation, AveragePooling2D,Reshape,BatchNormalization, Flatten\n",
        "import keras.backend as K"
      ],
      "execution_count": 3,
      "outputs": [
        {
          "output_type": "stream",
          "text": [
            "Using TensorFlow backend.\n"
          ],
          "name": "stderr"
        },
        {
          "output_type": "display_data",
          "data": {
            "text/html": [
              "<p style=\"color: red;\">\n",
              "The default version of TensorFlow in Colab will soon switch to TensorFlow 2.x.<br>\n",
              "We recommend you <a href=\"https://www.tensorflow.org/guide/migrate\" target=\"_blank\">upgrade</a> now \n",
              "or ensure your notebook will continue to use TensorFlow 1.x via the <code>%tensorflow_version 1.x</code> magic:\n",
              "<a href=\"https://colab.research.google.com/notebooks/tensorflow_version.ipynb\" target=\"_blank\">more info</a>.</p>\n"
            ],
            "text/plain": [
              "<IPython.core.display.HTML object>"
            ]
          },
          "metadata": {
            "tags": []
          }
        }
      ]
    },
    {
      "cell_type": "markdown",
      "metadata": {
        "id": "rJylwAqUgfUB",
        "colab_type": "text"
      },
      "source": [
        "# MiniProject on Deep Reinforcement Learning"
      ]
    },
    {
      "cell_type": "markdown",
      "metadata": {
        "id": "UhMvQjNcgfUC",
        "colab_type": "text"
      },
      "source": [
        "__Notations__: $E_p$ is the expectation under probability $p$. Please justify each of your answer and widely comment your code."
      ]
    },
    {
      "cell_type": "markdown",
      "metadata": {
        "id": "1dqos7fZgfUD",
        "colab_type": "text"
      },
      "source": [
        "# Context"
      ]
    },
    {
      "cell_type": "markdown",
      "metadata": {
        "id": "CHsdnxfRgfUD",
        "colab_type": "text"
      },
      "source": [
        "In a reinforcement learning algorithm, we modelize each step $t$ as an action $a_t$ obtained from a state $s_t$, i.e. $\\{(a_{t},s_{t})_{t\\leq T}\\}$ having the Markov property. We consider a discount factor $\\gamma \\in [0,1]$ that ensures convergence. The goal is to find among all the policies $\\pi$, one that maximizes the expected reward:\n",
        "\n",
        "\\begin{equation*}\n",
        "R(\\pi)=\\sum_{t\\leq T}E_{p^{\\pi}}[\\gamma^t r(s_{t},a_{t})] \\> ,\n",
        "\\end{equation*}\n",
        "\n",
        "where: \n",
        "\\begin{equation*}p^{\\pi}(a_{0},a_{1},s_{1},...,a_{T},s_{T})=p(a_{0})\\prod_{t=1}^{T}\\pi(a_{t}|s_{t})p(s_{t+1}|s_{t},a_{t}) \\> .\n",
        "\\end{equation*}\n",
        "\n",
        "We note the $Q$-function:\n",
        "\n",
        "\\begin{equation*}Q^\\pi(s,a)=E_{p^{\\pi}}[\\sum_{t\\leq T}\\gamma^{t}r(s_{t},a_{t})|s_{0}=s,a_{0}=a] \\> .\n",
        "\\end{equation*}\n",
        "\n",
        "Thus, the optimal Q function is:\n",
        "\\begin{equation*}\n",
        "Q^*(s,a)=\\max_{\\pi}Q^\\pi(s,a) \\> .\n",
        "\\end{equation*}\n",
        "\n",
        "In this project, we will apply the deep reinforcement learning techniques to a simple game: an agent will have to learn from scratch a policy that will permit it maximizing a reward."
      ]
    },
    {
      "cell_type": "markdown",
      "metadata": {
        "id": "G2VRiDiMgfUF",
        "colab_type": "text"
      },
      "source": [
        "## The environment, the agent and the game"
      ]
    },
    {
      "cell_type": "markdown",
      "metadata": {
        "id": "0l4M6uzmgfUG",
        "colab_type": "text"
      },
      "source": [
        "### The environment"
      ]
    },
    {
      "cell_type": "markdown",
      "metadata": {
        "id": "zIz00b5ngfUH",
        "colab_type": "text"
      },
      "source": [
        "```Environment``` is an abstract class that represents the states, rewards, and actions to obtain the new state."
      ]
    },
    {
      "cell_type": "code",
      "metadata": {
        "id": "uKQpCy5ggfUI",
        "colab_type": "code",
        "colab": {}
      },
      "source": [
        "class Environment(object):\n",
        "    def __init__(self):\n",
        "        pass\n",
        "\n",
        "    def act(self, act):\n",
        "        \"\"\"\n",
        "        One can act on the environment and obtain its reaction:\n",
        "        - the new state\n",
        "        - the reward of the new state\n",
        "        - should we continue the game?\n",
        "\n",
        "        :return: state, reward, game_over\n",
        "        \"\"\"\n",
        "        pass\n",
        "\n",
        "\n",
        "    def reset(self):\n",
        "        \"\"\"\n",
        "        Reinitialize the environment to a random state and returns\n",
        "        the original state\n",
        "\n",
        "        :return: state\n",
        "        \"\"\"\n",
        "        pass\n",
        "    \n",
        "    def draw(self):\n",
        "        \"\"\"\n",
        "        Visualize in the console or graphically the current state\n",
        "        \"\"\"\n",
        "        pass"
      ],
      "execution_count": 0,
      "outputs": []
    },
    {
      "cell_type": "markdown",
      "metadata": {
        "id": "LSI3UGNZgfUL",
        "colab_type": "text"
      },
      "source": [
        "The method ```act``` allows to act on the environment at a given state $s_t$ (stored internally), via action $a_t$. The method will return the new state $s_{t+1}$, the reward $r(s_{t},a_{t})$ and determines if $t\\leq T$ (*game_over*).\n",
        "\n",
        "The method ```reset``` simply reinitializes the environment to a random state $s_0$.\n",
        "\n",
        "The method ```draw``` displays the current state $s_t$ (this is useful to check the behavior of the Agent).\n",
        "\n",
        "We modelize $s_t$ as a tensor, while $a_t$ is an integer."
      ]
    },
    {
      "cell_type": "markdown",
      "metadata": {
        "id": "acA7CIRggfUM",
        "colab_type": "text"
      },
      "source": [
        "### The Agent"
      ]
    },
    {
      "cell_type": "markdown",
      "metadata": {
        "id": "DgITAfb8gfUN",
        "colab_type": "text"
      },
      "source": [
        "The goal of the ```Agent``` is to interact with the ```Environment``` by proposing actions $a_t$ obtained from a given state $s_t$ to attempt to maximize its __reward__ $r(s_t,a_t)$. We propose the following abstract class:"
      ]
    },
    {
      "cell_type": "code",
      "metadata": {
        "id": "egBspFPogfUO",
        "colab_type": "code",
        "colab": {}
      },
      "source": [
        "class Agent(object):\n",
        "    def __init__(self, epsilon=0.1, n_action=4):\n",
        "        self.epsilon = epsilon\n",
        "        self.n_action = n_action\n",
        "    \n",
        "    def set_epsilon(self,e):\n",
        "        self.epsilon = e\n",
        "\n",
        "    def act(self,s,train=True):\n",
        "        \"\"\" This function should return the next action to do:\n",
        "        an integer between 0 and 4 (not included) with a random exploration of epsilon\"\"\"\n",
        "        if train:\n",
        "            if np.random.rand() <= self.epsilon:\n",
        "                a = np.random.randint(0, self.n_action, size=1)[0]\n",
        "            else:\n",
        "                a = self.learned_act(s)\n",
        "        else: # in some cases, this can improve the performance.. remove it if poor performances\n",
        "            a = self.learned_act(s)\n",
        "\n",
        "        return a\n",
        "\n",
        "    def learned_act(self,s):\n",
        "        \"\"\" Act via the policy of the agent, from a given state s\n",
        "        it proposes an action a\"\"\"\n",
        "        pass\n",
        "\n",
        "    def reinforce(self, s, n_s, a, r, game_over_):\n",
        "        \"\"\" This function is the core of the learning algorithm. \n",
        "        It takes as an input the current state s_, the next state n_s_\n",
        "        the action a_ used to move from s_ to n_s_ and the reward r_.\n",
        "        \n",
        "        Its goal is to learn a policy.\n",
        "        \"\"\"\n",
        "        pass\n",
        "\n",
        "    def save(self):\n",
        "        \"\"\" This function returns basic stats if applicable: the\n",
        "        loss and/or the model\"\"\"\n",
        "        pass\n",
        "\n",
        "    def load(self):\n",
        "        \"\"\" This function allows to restore a model\"\"\"\n",
        "        pass"
      ],
      "execution_count": 0,
      "outputs": []
    },
    {
      "cell_type": "markdown",
      "metadata": {
        "id": "hw_yo_A-gfUS",
        "colab_type": "text"
      },
      "source": [
        "***\n",
        "__Question 1__:\n",
        "Explain the function act. Why is ```epsilon``` essential?"
      ]
    },
    {
      "cell_type": "markdown",
      "metadata": {
        "id": "ESj06WFXgfUT",
        "colab_type": "text"
      },
      "source": [
        "In a training setting, the act functions selects either a random action with probability $\\epsilon$ and the best action given the current state according to the model with probability $1 - \\epsilon$.\n",
        "\n",
        "Epsilon is critical to explore all the environment and learn what the best actions are. Indeed if $\\epsilon = 0$ the model can be confined to a single state and never attempt to take actions that would lead it to another potentially more rewarding state.\n",
        "\n",
        "The chosen value of epsilon (between 0 and 1) is a trade-off between exploration (trying to test all possible action-states to learn to infer their rewards) and exploitation (maximizing the reward using the best known action at each time step). Typically, we use a decreasing $\\epsilon$ so that we explore a lot at early stage of the training, and then exploit once the model has a good knowledge of its environment."
      ]
    },
    {
      "cell_type": "markdown",
      "metadata": {
        "id": "JzVQChKtgfUT",
        "colab_type": "text"
      },
      "source": [
        "***\n",
        "### The Game"
      ]
    },
    {
      "cell_type": "markdown",
      "metadata": {
        "id": "u0nPe3UagfUU",
        "colab_type": "text"
      },
      "source": [
        "The ```Agent``` and the ```Environment``` work in an interlaced way as in the following (take some time to understand this code as it is the core of the project)\n",
        "\n",
        "```python\n",
        "\n",
        "epoch = 300\n",
        "env = Environment()\n",
        "agent = Agent()\n",
        "\n",
        "\n",
        "# Number of won games\n",
        "score = 0\n",
        "loss = 0\n",
        "\n",
        "\n",
        "for e in range(epoch):\n",
        "    # At each epoch, we restart to a fresh game and get the initial state\n",
        "    state = env.reset()\n",
        "    # This assumes that the games will end\n",
        "    game_over = False\n",
        "\n",
        "    win = 0\n",
        "    lose = 0\n",
        "    \n",
        "    while not game_over:\n",
        "        # The agent performs an action\n",
        "        action = agent.act(state)\n",
        "\n",
        "        # Apply an action to the environment, get the next state, the reward\n",
        "        # and if the games end\n",
        "        prev_state = state\n",
        "        state, reward, game_over = env.act(action)\n",
        "\n",
        "        # Update the counters\n",
        "        if reward > 0:\n",
        "            win = win + reward\n",
        "        if reward < 0:\n",
        "            lose = lose -reward\n",
        "\n",
        "        # Apply the reinforcement strategy\n",
        "        loss = agent.reinforce(prev_state, state,  action, reward, game_over)\n",
        "\n",
        "    # Save as a mp4\n",
        "    if e % 10 == 0:\n",
        "        env.draw(e)\n",
        "\n",
        "    # Update stats\n",
        "    score += win-lose\n",
        "\n",
        "    print(\"Epoch {:03d}/{:03d} | Loss {:.4f} | Win/lose count {}/{} ({})\"\n",
        "          .format(e, epoch, loss, win, lose, win-lose))\n",
        "    agent.save()\n",
        "```"
      ]
    },
    {
      "cell_type": "markdown",
      "metadata": {
        "id": "ZiF3dc8ggfUV",
        "colab_type": "text"
      },
      "source": [
        "# The game, *eat cheese*"
      ]
    },
    {
      "cell_type": "markdown",
      "metadata": {
        "id": "fyaG5jPZgfUW",
        "colab_type": "text"
      },
      "source": [
        "A rat runs on an island and tries to eat as much as possible. The island is subdivided into $N\\times N$ cells, in which there are cheese (+0.5) and poisonous cells (-1). The rat has a visibility of 2 cells (thus it can see $5^2$ cells). The rat is given a time $T$ to accumulate as much food as possible. It can perform 4 actions: going up, down, left, right. \n",
        "\n",
        "The goal is to code an agent to solve this task that will learn by trial and error. We propose the following environment:"
      ]
    },
    {
      "cell_type": "code",
      "metadata": {
        "id": "D_Zvoz93gfUX",
        "colab_type": "code",
        "colab": {}
      },
      "source": [
        "class Environment(object):\n",
        "    def __init__(self, grid_size=10, max_time=500, temperature=0.1):\n",
        "        grid_size = grid_size+4\n",
        "        self.grid_size = grid_size\n",
        "        self.max_time = max_time\n",
        "        self.temperature = temperature\n",
        "\n",
        "        #board on which one plays\n",
        "        self.board = np.zeros((grid_size,grid_size))\n",
        "        self.position = np.zeros((grid_size,grid_size))\n",
        "\n",
        "        # coordinate of the cat\n",
        "        self.x = 0\n",
        "        self.y = 1\n",
        "\n",
        "        # self time\n",
        "        self.t = 0\n",
        "\n",
        "        self.scale=16\n",
        "\n",
        "        self.to_draw = np.zeros((max_time+2, grid_size*self.scale, grid_size*self.scale, 3))\n",
        "\n",
        "\n",
        "    def draw(self,e):\n",
        "        skvideo.io.vwrite(str(e) + '.mp4', self.to_draw)\n",
        "\n",
        "    def get_frame(self,t):\n",
        "        b = np.zeros((self.grid_size,self.grid_size,3))+128\n",
        "        b[self.board>0,0] = 256\n",
        "        b[self.board < 0, 2] = 256\n",
        "        b[self.x,self.y,:]=256\n",
        "        b[-2:,:,:]=0\n",
        "        b[:,-2:,:]=0\n",
        "        b[:2,:,:]=0\n",
        "        b[:,:2,:]=0\n",
        "        \n",
        "        b =  cv2.resize(b, None, fx=self.scale, fy=self.scale, interpolation=cv2.INTER_NEAREST)\n",
        "\n",
        "        self.to_draw[t,:,:,:]=b\n",
        "\n",
        "\n",
        "    def act(self, action):\n",
        "        \"\"\"This function returns the new state, reward and decides if the\n",
        "        game ends.\"\"\"\n",
        "\n",
        "        self.get_frame(int(self.t))\n",
        "\n",
        "        self.position = np.zeros((self.grid_size, self.grid_size))\n",
        "\n",
        "        self.position[0:2,:]= -1\n",
        "        self.position[:,0:2] = -1\n",
        "        self.position[-2:, :] = -1\n",
        "        self.position[-2:, :] = -1\n",
        "\n",
        "        self.position[self.x, self.y] = 1\n",
        "        if action == 0:\n",
        "            if self.x == self.grid_size-3:\n",
        "                self.x = self.x-1\n",
        "            else:\n",
        "                self.x = self.x + 1\n",
        "        elif action == 1:\n",
        "            if self.x == 2:\n",
        "                self.x = self.x+1\n",
        "            else:\n",
        "                self.x = self.x-1\n",
        "        elif action == 2:\n",
        "            if self.y == self.grid_size - 3:\n",
        "                self.y = self.y - 1\n",
        "            else:\n",
        "                self.y = self.y + 1\n",
        "        elif action == 3:\n",
        "            if self.y == 2:\n",
        "                self.y = self.y + 1\n",
        "            else:\n",
        "                self.y = self.y - 1\n",
        "        else:\n",
        "            RuntimeError('Error: action not recognized')\n",
        "\n",
        "        self.t = self.t + 1\n",
        "        reward = self.board[self.x, self.y]\n",
        "        self.board[self.x, self.y] = 0\n",
        "        game_over = self.t > self.max_time\n",
        "        state = np.concatenate((self.board.reshape(self.grid_size, self.grid_size,1),\n",
        "                        self.position.reshape(self.grid_size, self.grid_size,1)),axis=2)\n",
        "        state = state[self.x-2:self.x+3,self.y-2:self.y+3,:]\n",
        "\n",
        "        return state, reward, game_over\n",
        "\n",
        "    def reset(self):\n",
        "        \"\"\"This function resets the game and returns the initial state\"\"\"\n",
        "\n",
        "        self.x = np.random.randint(3, self.grid_size-3, size=1)[0]\n",
        "        self.y = np.random.randint(3, self.grid_size-3, size=1)[0]\n",
        "\n",
        "\n",
        "        bonus = 0.5*np.random.binomial(1,self.temperature,size=self.grid_size**2)\n",
        "        bonus = bonus.reshape(self.grid_size,self.grid_size)\n",
        "\n",
        "        malus = -1.0*np.random.binomial(1,self.temperature,size=self.grid_size**2)\n",
        "        malus = malus.reshape(self.grid_size, self.grid_size)\n",
        "\n",
        "        self.to_draw = np.zeros((self.max_time+2, self.grid_size*self.scale, self.grid_size*self.scale, 3))\n",
        "\n",
        "\n",
        "        malus[bonus>0]=0\n",
        "\n",
        "        self.board = bonus + malus\n",
        "\n",
        "        self.position = np.zeros((self.grid_size, self.grid_size))\n",
        "        self.position[0:2,:]= -1\n",
        "        self.position[:,0:2] = -1\n",
        "        self.position[-2:, :] = -1\n",
        "        self.position[-2:, :] = -1\n",
        "        self.board[self.x,self.y] = 0\n",
        "        self.t = 0\n",
        "\n",
        "        state = np.concatenate((\n",
        "                               self.board.reshape(self.grid_size, self.grid_size,1),\n",
        "                        self.position.reshape(self.grid_size, self.grid_size,1)),axis=2)\n",
        "\n",
        "        state = state[self.x - 2:self.x + 3, self.y - 2:self.y + 3, :]\n",
        "        return state"
      ],
      "execution_count": 0,
      "outputs": []
    },
    {
      "cell_type": "markdown",
      "metadata": {
        "id": "arqOL4fCgfUa",
        "colab_type": "text"
      },
      "source": [
        "The following elements are important because they correspond to the hyper parameters for this project:"
      ]
    },
    {
      "cell_type": "code",
      "metadata": {
        "id": "cXavLwj8gfUc",
        "colab_type": "code",
        "colab": {}
      },
      "source": [
        "# parameters\n",
        "size = 13\n",
        "T=200\n",
        "temperature=0.3\n",
        "epochs_train=100 # set small when debugging\n",
        "epochs_test=25 # set small when debugging\n",
        "\n",
        "# display videos\n",
        "def display_videos(name):\n",
        "    video = io.open(name, 'r+b').read()\n",
        "    encoded = base64.b64encode(video)\n",
        "    return '''<video alt=\"test\" controls>\n",
        "                <source src=\"data:video/mp4;base64,{0}\" type=\"video/mp4\" />\n",
        "             </video>'''.format(encoded.decode('ascii'))"
      ],
      "execution_count": 0,
      "outputs": []
    },
    {
      "cell_type": "markdown",
      "metadata": {
        "id": "ZGga_G15gfUg",
        "colab_type": "text"
      },
      "source": [
        "__Question 2__ Explain the use of the arrays ```position``` and ```board```."
      ]
    },
    {
      "cell_type": "markdown",
      "metadata": {
        "id": "putgqgXTgfUg",
        "colab_type": "text"
      },
      "source": [
        "The array board indicates stores the position of each cheese and each poison. We first add cheese on the grid, and then the poison. If a poison ends up on a position where there is cheese, we remove the poison.\n",
        "\n",
        "The position array is used to store the position of the border of the grid. We pad the grid with 2 rows and columns of 'walls' where the rat cannot go so that we do not have any edge case for the vision of the rat which can see 2 squares around him."
      ]
    },
    {
      "cell_type": "markdown",
      "metadata": {
        "id": "58jdmDRigfUh",
        "colab_type": "text"
      },
      "source": [
        "## Random Agent"
      ]
    },
    {
      "cell_type": "markdown",
      "metadata": {
        "id": "0nx68md5gfUi",
        "colab_type": "text"
      },
      "source": [
        "***\n",
        "__Question 3__ Implement a random Agent (only ```learned_act``` needs to be implemented):"
      ]
    },
    {
      "cell_type": "code",
      "metadata": {
        "id": "UEJGEXPVgfUi",
        "colab_type": "code",
        "colab": {}
      },
      "source": [
        "class RandomAgent(Agent):\n",
        "    def __init__(self):\n",
        "        super(RandomAgent, self).__init__()\n",
        "        pass\n",
        "\n",
        "    def learned_act(self, s):\n",
        "        return np.random.randint(0,4)"
      ],
      "execution_count": 0,
      "outputs": []
    },
    {
      "cell_type": "markdown",
      "metadata": {
        "id": "NdniATVbgfUl",
        "colab_type": "text"
      },
      "source": [
        "***\n",
        "***\n",
        "__Question 4__ Visualize the game moves. You need to fill in the following function for the evaluation:"
      ]
    },
    {
      "cell_type": "code",
      "metadata": {
        "id": "wYe9bvxigfUl",
        "colab_type": "code",
        "colab": {}
      },
      "source": [
        "def test(agent,env,epochs,prefix=''):\n",
        "    # Number of won games\n",
        "    score = 0\n",
        "        \n",
        "    for e in range(0,epochs):\n",
        "\n",
        "      # At each epoch, we restart to a fresh game and get the initial state\n",
        "      state = env.reset()\n",
        "      # This assumes that the games will end\n",
        "      game_over = False\n",
        "  \n",
        "      win = 0\n",
        "      lose = 0\n",
        "  \n",
        "      while not game_over:\n",
        "          # The agent performs an action\n",
        "          action = agent.act(state)\n",
        "  \n",
        "          # Apply an action to the environment, get the next state, the reward\n",
        "          # and if the games end\n",
        "          prev_state = state\n",
        "          state, reward, game_over = env.act(action)\n",
        "  \n",
        "          # Update the counters\n",
        "          if reward > 0:\n",
        "              win = win + reward\n",
        "          if reward < 0:\n",
        "              lose = lose -reward\n",
        "      \n",
        "      # Save as a mp4\n",
        "      if e % 10 == 0:\n",
        "          env.draw(e)\n",
        "\n",
        "\n",
        "      # Save as a mp4\n",
        "      env.draw(prefix+str(e))\n",
        "\n",
        "      # Update stats\n",
        "      score = score + win-lose\n",
        "\n",
        "      print(\"Win/lose count {}/{}. Average score ({})\"\n",
        "            .format(win, lose, score/(1+e)))\n",
        "    print('Final score: '+str(score/epochs))"
      ],
      "execution_count": 0,
      "outputs": []
    },
    {
      "cell_type": "code",
      "metadata": {
        "id": "W_m_vIubgfUo",
        "colab_type": "code",
        "colab": {
          "base_uri": "https://localhost:8080/",
          "height": 735
        },
        "outputId": "c746277a-0cc8-477a-85b7-44a541b252bb"
      },
      "source": [
        "# Initialize the game\n",
        "env = Environment(grid_size=size, max_time=T,temperature=temperature)\n",
        "\n",
        "# Initialize the agent!\n",
        "agent = RandomAgent()\n",
        "\n",
        "test(agent,env,epochs_test,prefix='random')\n",
        "HTML(display_videos('random0.mp4'))"
      ],
      "execution_count": 10,
      "outputs": [
        {
          "output_type": "stream",
          "text": [
            "Win/lose count 9.5/18.0. Average score (-8.5)\n",
            "Win/lose count 13.0/17.0. Average score (-6.25)\n",
            "Win/lose count 9.0/14.0. Average score (-5.833333333333333)\n",
            "Win/lose count 8.5/13.0. Average score (-5.5)\n",
            "Win/lose count 5.5/12.0. Average score (-5.7)\n",
            "Win/lose count 8.5/14.0. Average score (-5.666666666666667)\n",
            "Win/lose count 9.0/12.0. Average score (-5.285714285714286)\n",
            "Win/lose count 8.5/8.0. Average score (-4.5625)\n",
            "Win/lose count 9.0/16.0. Average score (-4.833333333333333)\n",
            "Win/lose count 11.0/10.0. Average score (-4.25)\n",
            "Win/lose count 6.0/14.0. Average score (-4.590909090909091)\n",
            "Win/lose count 13.5/14.0. Average score (-4.25)\n",
            "Win/lose count 7.0/13.0. Average score (-4.384615384615385)\n",
            "Win/lose count 7.5/5.0. Average score (-3.892857142857143)\n",
            "Win/lose count 10.5/15.0. Average score (-3.933333333333333)\n",
            "Win/lose count 13.0/10.0. Average score (-3.5)\n",
            "Win/lose count 9.0/12.0. Average score (-3.4705882352941178)\n",
            "Win/lose count 10.0/16.0. Average score (-3.611111111111111)\n",
            "Win/lose count 11.0/13.0. Average score (-3.526315789473684)\n",
            "Win/lose count 5.0/12.0. Average score (-3.7)\n",
            "Win/lose count 12.0/25.0. Average score (-4.142857142857143)\n",
            "Win/lose count 7.5/16.0. Average score (-4.340909090909091)\n",
            "Win/lose count 11.5/18.0. Average score (-4.434782608695652)\n",
            "Win/lose count 10.5/14.0. Average score (-4.395833333333333)\n",
            "Win/lose count 13.5/13.0. Average score (-4.2)\n",
            "Final score: -4.2\n"
          ],
          "name": "stdout"
        },
        {
          "output_type": "execute_result",
          "data": {
            "text/html": [
              "<video alt=\"test\" controls>\n",
              "                <source src=\"data:video/mp4;base64,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\" type=\"video/mp4\" />\n",
              "             </video>"
            ],
            "text/plain": [
              "<IPython.core.display.HTML object>"
            ]
          },
          "metadata": {
            "tags": []
          },
          "execution_count": 10
        }
      ]
    },
    {
      "cell_type": "markdown",
      "metadata": {
        "id": "AhjCB3AzgfUt",
        "colab_type": "text"
      },
      "source": [
        "***\n",
        "## DQN"
      ]
    },
    {
      "cell_type": "markdown",
      "metadata": {
        "id": "Yqz26iY8gfUv",
        "colab_type": "text"
      },
      "source": [
        "Let us assume here that $T=\\infty$.\n",
        "\n",
        "***\n",
        "__Question 5__ Let $\\pi$ be a policy, show that:\n",
        "\n",
        "\\begin{equation*}\n",
        "Q^{\\pi}(s,a)=E_{(s',a')\\sim p(.|s,a)}[r(s,a)+\\gamma Q^{\\pi}(s',a')]\n",
        "\\end{equation*}\n",
        "\n",
        "Then, show that for the optimal policy $\\pi^*$ (we assume its existence), the following holds: \n",
        "\n",
        "\\begin{equation*}\n",
        "Q^{*}(s,a)=E_{s'\\sim \\pi^*(.|s,a)}[r(s,a)+\\gamma\\max_{a'}Q^{*}(s',a')].\n",
        "\\end{equation*}\n",
        "Finally, deduce that a plausible objective is:\n",
        "\n",
        "\\begin{equation*}\n",
        "\\mathcal{L}(\\theta)=E_{s' \\sim \\pi^*(.|s,a)}\\Vert r+\\gamma\\max\\max_{a'}Q(s',a',\\theta)-Q(s,a,\\theta)\\Vert^{2}.\n",
        "\\end{equation*}\n",
        "\n",
        "\n"
      ]
    },
    {
      "cell_type": "markdown",
      "metadata": {
        "id": "CfNZu4xGgfUv",
        "colab_type": "text"
      },
      "source": [
        ""
      ]
    },
    {
      "cell_type": "markdown",
      "metadata": {
        "id": "4elTdKHTgfUw",
        "colab_type": "text"
      },
      "source": [
        "***\n",
        "The DQN-learning algorithm relies on these derivations to train the parameters $\\theta$ of a Deep Neural Network:\n",
        "\n",
        "1. At the state $s_t$, select the action $a_t$ with best reward using $Q_t$ and store the results;\n",
        "\n",
        "2. Obtain the new state $s_{t+1}$ from the environment $p$;\n",
        "\n",
        "3. Store $(s_t,a_t,s_{t+1})$;\n",
        "\n",
        "4. Obtain $Q_{t+1}$ by minimizing  $\\mathcal{L}$ from a recovered batch from the previously stored results.\n",
        "\n",
        "***\n",
        "__Question 6__ Implement the class ```Memory``` that stores moves (in a replay buffer) via ```remember``` and provides a ```random_access``` to these. Specify a maximum memory size to avoid side effects. You can for example use a ```list()``` and set by default ```max_memory=100```."
      ]
    },
    {
      "cell_type": "code",
      "metadata": {
        "id": "cQoTMo0GgfUx",
        "colab_type": "code",
        "colab": {}
      },
      "source": [
        "class Memory(object):\n",
        "    def __init__(self, max_memory=100):\n",
        "        self.max_memory = max_memory\n",
        "        self.memory = list()\n",
        "\n",
        "    def remember(self, m):\n",
        "        if len(self.memory)>=self.max_memory:\n",
        "          self.memory.pop(0)\n",
        "        self.memory.append(m)\n",
        "\n",
        "    def random_access(self):\n",
        "        return self.memory[np.random.randint(0,len(self.memory))]"
      ],
      "execution_count": 0,
      "outputs": []
    },
    {
      "cell_type": "markdown",
      "metadata": {
        "id": "rxvugBPxgfU1",
        "colab_type": "text"
      },
      "source": [
        "***\n",
        "The pipeline we will use for training is given below:"
      ]
    },
    {
      "cell_type": "code",
      "metadata": {
        "id": "lODxbHLlgfU2",
        "colab_type": "code",
        "colab": {}
      },
      "source": [
        "def train(agent,env,epoch,prefix=''):\n",
        "    # Number of won games\n",
        "    score = 0\n",
        "    loss = 0\n",
        "\n",
        "    for e in range(1,epoch+1):\n",
        "        # At each epoch, we restart to a fresh game and get the initial state\n",
        "        state = env.reset()\n",
        "        # This assumes that the games will terminate\n",
        "        game_over = False\n",
        "\n",
        "        win = 0\n",
        "        lose = 0\n",
        "\n",
        "        while not game_over:\n",
        "            # The agent performs an action\n",
        "            action = agent.act(state)\n",
        "\n",
        "            # Apply an action to the environment, get the next state, the reward\n",
        "            # and if the games end\n",
        "            prev_state = state\n",
        "            state, reward, game_over = env.act(action)\n",
        "\n",
        "            # Update the counters\n",
        "            if reward > 0:\n",
        "                win = win + reward\n",
        "            if reward < 0:\n",
        "                lose = lose -reward\n",
        "\n",
        "            # Apply the reinforcement strategy\n",
        "            loss = agent.reinforce(prev_state, state,  action, reward, game_over)\n",
        "\n",
        "        # Save as a mp4\n",
        "        if e % 10 == 0:\n",
        "            env.draw(prefix+str(e))\n",
        "      \n",
        "\n",
        "        # Update stats\n",
        "        score += win-lose\n",
        "\n",
        "        print(\"Epoch {:03d}/{:03d} | Loss {:.4f} | Win/lose count {}/{} ({})\"\n",
        "              .format(e, epoch, loss, win, lose, win-lose))\n",
        "        agent.save(name_weights=prefix+'model.h5',name_model=prefix+'model.json')"
      ],
      "execution_count": 0,
      "outputs": []
    },
    {
      "cell_type": "markdown",
      "metadata": {
        "id": "vMyD2oEPgfU5",
        "colab_type": "text"
      },
      "source": [
        "***\n",
        "__Question 7__ Implement the DQN training algorithm using a cascade of fully connected layers. You can use different learning rate, batch size or memory size parameters. In particular, the loss might oscillate while the player will start to win the games. You have to find a good criterium."
      ]
    },
    {
      "cell_type": "code",
      "metadata": {
        "id": "beCmipUWgfU6",
        "colab_type": "code",
        "colab": {}
      },
      "source": [
        "class DQN(Agent):\n",
        "    def __init__(self, grid_size,  epsilon = 0.1, memory_size=100, batch_size = 16,n_state=2):\n",
        "        super(DQN, self).__init__(epsilon = epsilon)\n",
        "\n",
        "        # Discount for Q learning\n",
        "        self.discount = 0.99\n",
        "        \n",
        "        self.grid_size = grid_size\n",
        "        \n",
        "        # number of state\n",
        "        self.n_state = n_state\n",
        "\n",
        "        # Memory\n",
        "        self.memory = Memory(memory_size)\n",
        "        \n",
        "        # Batch size when learning\n",
        "        self.batch_size = batch_size\n",
        "\n",
        "    def learned_act(self, s):\n",
        "      s=s.reshape((1,5,5,self.n_state))\n",
        "      return np.argmax(self.model.predict([s]))\n",
        "\n",
        "    def reinforce(self, s_, n_s_, a_, r_, game_over_):\n",
        "        # Two steps: first memorize the states, second learn from the pool\n",
        "\n",
        "        self.memory.remember([s_, n_s_, a_, r_, game_over_])\n",
        "        \n",
        "        input_states = np.zeros((self.batch_size, 5,5,self.n_state))\n",
        "        next_states = np.zeros((self.batch_size, 5,5,self.n_state))\n",
        "        target_q = np.zeros((self.batch_size, 4))\n",
        "        memories=[]\n",
        "        \n",
        "        for i in range(self.batch_size):\n",
        "          memories.append(self.memory.random_access())\n",
        "          input_states[i]= memories[-1][0]\n",
        "          next_states[i]=memories[-1][1]\n",
        "\n",
        "        target_q=self.model.predict(input_states)\n",
        "        prediction_q=self.model.predict(next_states)\n",
        "\n",
        "        for i in range(self.batch_size):\n",
        "          game_over_= memories[i][4]\n",
        "            \n",
        "          if game_over_:\n",
        "              target_q[i,memories[i][2]]=memories[i][3]\n",
        "          else:\n",
        "              target_q[i,memories[i][2]]=memories[i][3]+self.discount*np.max(prediction_q[i])\n",
        "        # HINT: Clip the target to avoid exploiding gradients.. -- clipping is a bit tighter\n",
        "        target_q = np.clip(target_q, -3, 3)\n",
        "\n",
        "        l = self.model.train_on_batch(input_states, target_q)\n",
        "\n",
        "\n",
        "        return l\n",
        "\n",
        "    def save(self,name_weights='model.h5',name_model='model.json'):\n",
        "        self.model.save_weights(name_weights, overwrite=True)\n",
        "        with open(name_model, \"w\") as outfile:\n",
        "            json.dump(self.model.to_json(), outfile)\n",
        "            \n",
        "    def load(self,name_weights='model.h5',name_model='model.json'):\n",
        "        with open(name_model, \"r\") as jfile:\n",
        "            model = model_from_json(json.load(jfile))\n",
        "        model.load_weights(name_weights)\n",
        "        model.compile(\"adam\", \"mse\")\n",
        "        self.model = model\n",
        "\n",
        "            \n",
        "class DQN_FC(DQN):\n",
        "    def __init__(self, *args, lr=0.1,**kwargs):\n",
        "        super(DQN_FC, self).__init__( *args,**kwargs)\n",
        "        \n",
        "        # NN Model\n",
        "        model = Sequential()\n",
        "        model.add(Flatten(input_shape=(5,5,self.n_state)))\n",
        "        model.add(Dense(100,activation=\"sigmoid\"))\n",
        "        model.add(Dense(50,activation=\"sigmoid\"))\n",
        "        model.add(Dense(4))\n",
        "        \n",
        "        model.compile(adam(lr=lr, decay=1e-6), \"mse\")\n",
        "        self.model = model\n",
        "        "
      ],
      "execution_count": 0,
      "outputs": []
    },
    {
      "cell_type": "code",
      "metadata": {
        "id": "nu3xDqWIgfU-",
        "colab_type": "code",
        "colab": {
          "base_uri": "https://localhost:8080/",
          "height": 1000
        },
        "outputId": "96ba3cc1-6636-49d4-e684-5b96bce8c9ce"
      },
      "source": [
        "env = Environment(grid_size=size, max_time=T, temperature=0.3)\n",
        "agent = DQN_FC(size, lr=.0001, epsilon = 0.1, memory_size=2000, batch_size = 64)\n",
        "train(agent, env, epochs_train, prefix='fc_train')\n",
        "HTML(display_videos('fc_train90.mp4'))"
      ],
      "execution_count": 14,
      "outputs": [
        {
          "output_type": "stream",
          "text": [
            "WARNING:tensorflow:From /usr/local/lib/python3.6/dist-packages/keras/backend/tensorflow_backend.py:66: The name tf.get_default_graph is deprecated. Please use tf.compat.v1.get_default_graph instead.\n",
            "\n",
            "WARNING:tensorflow:From /usr/local/lib/python3.6/dist-packages/keras/backend/tensorflow_backend.py:541: The name tf.placeholder is deprecated. Please use tf.compat.v1.placeholder instead.\n",
            "\n",
            "WARNING:tensorflow:From /usr/local/lib/python3.6/dist-packages/keras/backend/tensorflow_backend.py:4432: The name tf.random_uniform is deprecated. Please use tf.random.uniform instead.\n",
            "\n",
            "WARNING:tensorflow:From /usr/local/lib/python3.6/dist-packages/keras/optimizers.py:793: The name tf.train.Optimizer is deprecated. Please use tf.compat.v1.train.Optimizer instead.\n",
            "\n",
            "WARNING:tensorflow:From /usr/local/lib/python3.6/dist-packages/keras/backend/tensorflow_backend.py:3005: The name tf.Session is deprecated. Please use tf.compat.v1.Session instead.\n",
            "\n",
            "WARNING:tensorflow:From /usr/local/lib/python3.6/dist-packages/keras/backend/tensorflow_backend.py:190: The name tf.get_default_session is deprecated. Please use tf.compat.v1.get_default_session instead.\n",
            "\n",
            "WARNING:tensorflow:From /usr/local/lib/python3.6/dist-packages/keras/backend/tensorflow_backend.py:197: The name tf.ConfigProto is deprecated. Please use tf.compat.v1.ConfigProto instead.\n",
            "\n",
            "WARNING:tensorflow:From /usr/local/lib/python3.6/dist-packages/keras/backend/tensorflow_backend.py:207: The name tf.global_variables is deprecated. Please use tf.compat.v1.global_variables instead.\n",
            "\n",
            "WARNING:tensorflow:From /usr/local/lib/python3.6/dist-packages/keras/backend/tensorflow_backend.py:216: The name tf.is_variable_initialized is deprecated. Please use tf.compat.v1.is_variable_initialized instead.\n",
            "\n",
            "WARNING:tensorflow:From /usr/local/lib/python3.6/dist-packages/keras/backend/tensorflow_backend.py:223: The name tf.variables_initializer is deprecated. Please use tf.compat.v1.variables_initializer instead.\n",
            "\n",
            "WARNING:tensorflow:From /usr/local/lib/python3.6/dist-packages/keras/backend/tensorflow_backend.py:1033: The name tf.assign_add is deprecated. Please use tf.compat.v1.assign_add instead.\n",
            "\n",
            "WARNING:tensorflow:From /usr/local/lib/python3.6/dist-packages/keras/backend/tensorflow_backend.py:1020: The name tf.assign is deprecated. Please use tf.compat.v1.assign instead.\n",
            "\n",
            "Epoch 001/100 | Loss 0.0066 | Win/lose count 3.0/1.0 (2.0)\n",
            "Epoch 002/100 | Loss 0.0085 | Win/lose count 3.5/6.0 (-2.5)\n",
            "Epoch 003/100 | Loss 0.0079 | Win/lose count 5.0/2.0 (3.0)\n",
            "Epoch 004/100 | Loss 0.0053 | Win/lose count 1.0/3.0 (-2.0)\n",
            "Epoch 005/100 | Loss 0.0059 | Win/lose count 0.5/3.0 (-2.5)\n",
            "Epoch 006/100 | Loss 0.0063 | Win/lose count 8.0/4.0 (4.0)\n",
            "Epoch 007/100 | Loss 0.0093 | Win/lose count 2.5/1.0 (1.5)\n",
            "Epoch 008/100 | Loss 0.0003 | Win/lose count 5.0/0 (5.0)\n",
            "Epoch 009/100 | Loss 0.0079 | Win/lose count 2.5/6.0 (-3.5)\n",
            "Epoch 010/100 | Loss 0.0257 | Win/lose count 2.5/2.0 (0.5)\n",
            "Epoch 011/100 | Loss 0.0214 | Win/lose count 4.0/2.0 (2.0)\n",
            "Epoch 012/100 | Loss 0.0097 | Win/lose count 3.5/3.0 (0.5)\n",
            "Epoch 013/100 | Loss 0.0157 | Win/lose count 3.5/3.0 (0.5)\n",
            "Epoch 014/100 | Loss 0.0064 | Win/lose count 4.0/3.0 (1.0)\n",
            "Epoch 015/100 | Loss 0.0104 | Win/lose count 7.0/4.0 (3.0)\n",
            "Epoch 016/100 | Loss 0.0044 | Win/lose count 3.0/4.0 (-1.0)\n",
            "Epoch 017/100 | Loss 0.0040 | Win/lose count 3.5/0 (3.5)\n",
            "Epoch 018/100 | Loss 0.0011 | Win/lose count 7.0/3.0 (4.0)\n",
            "Epoch 019/100 | Loss 0.0072 | Win/lose count 7.0/7.0 (0.0)\n",
            "Epoch 020/100 | Loss 0.0110 | Win/lose count 4.0/1.0 (3.0)\n",
            "Epoch 021/100 | Loss 0.0190 | Win/lose count 4.0/2.0 (2.0)\n",
            "Epoch 022/100 | Loss 0.0194 | Win/lose count 7.0/1.0 (6.0)\n",
            "Epoch 023/100 | Loss 0.0054 | Win/lose count 8.0/6.0 (2.0)\n",
            "Epoch 024/100 | Loss 0.0460 | Win/lose count 5.5/2.0 (3.5)\n",
            "Epoch 025/100 | Loss 0.0054 | Win/lose count 9.0/5.0 (4.0)\n",
            "Epoch 026/100 | Loss 0.0092 | Win/lose count 6.0/2.0 (4.0)\n",
            "Epoch 027/100 | Loss 0.0042 | Win/lose count 6.0/6.0 (0.0)\n",
            "Epoch 028/100 | Loss 0.0064 | Win/lose count 8.5/3.0 (5.5)\n",
            "Epoch 029/100 | Loss 0.0059 | Win/lose count 4.0/1.0 (3.0)\n",
            "Epoch 030/100 | Loss 0.0068 | Win/lose count 5.5/3.0 (2.5)\n",
            "Epoch 031/100 | Loss 0.0061 | Win/lose count 9.5/0 (9.5)\n",
            "Epoch 032/100 | Loss 0.0715 | Win/lose count 7.5/4.0 (3.5)\n",
            "Epoch 033/100 | Loss 0.0020 | Win/lose count 10.0/3.0 (7.0)\n",
            "Epoch 034/100 | Loss 0.0042 | Win/lose count 10.0/1.0 (9.0)\n",
            "Epoch 035/100 | Loss 0.0025 | Win/lose count 9.0/0 (9.0)\n",
            "Epoch 036/100 | Loss 0.0314 | Win/lose count 9.5/2.0 (7.5)\n",
            "Epoch 037/100 | Loss 0.0015 | Win/lose count 8.0/0 (8.0)\n",
            "Epoch 038/100 | Loss 0.0015 | Win/lose count 5.0/2.0 (3.0)\n",
            "Epoch 039/100 | Loss 0.0026 | Win/lose count 7.0/0 (7.0)\n",
            "Epoch 040/100 | Loss 0.0041 | Win/lose count 6.5/3.0 (3.5)\n",
            "Epoch 041/100 | Loss 0.0017 | Win/lose count 5.0/0 (5.0)\n",
            "Epoch 042/100 | Loss 0.0018 | Win/lose count 7.5/0 (7.5)\n",
            "Epoch 043/100 | Loss 0.0242 | Win/lose count 6.5/1.0 (5.5)\n",
            "Epoch 044/100 | Loss 0.0013 | Win/lose count 2.5/0 (2.5)\n",
            "Epoch 045/100 | Loss 0.0014 | Win/lose count 15.0/1.0 (14.0)\n",
            "Epoch 046/100 | Loss 0.0015 | Win/lose count 13.5/0 (13.5)\n",
            "Epoch 047/100 | Loss 0.0016 | Win/lose count 19.5/4.0 (15.5)\n",
            "Epoch 048/100 | Loss 0.0272 | Win/lose count 7.0/1.0 (6.0)\n",
            "Epoch 049/100 | Loss 0.0009 | Win/lose count 6.5/0 (6.5)\n",
            "Epoch 050/100 | Loss 0.0019 | Win/lose count 9.5/0 (9.5)\n",
            "Epoch 051/100 | Loss 0.0566 | Win/lose count 18.5/3.0 (15.5)\n",
            "Epoch 052/100 | Loss 0.0213 | Win/lose count 18.0/3.0 (15.0)\n",
            "Epoch 053/100 | Loss 0.0010 | Win/lose count 18.0/1.0 (17.0)\n",
            "Epoch 054/100 | Loss 0.0027 | Win/lose count 11.5/1.0 (10.5)\n",
            "Epoch 055/100 | Loss 0.0007 | Win/lose count 15.0/1.0 (14.0)\n",
            "Epoch 056/100 | Loss 0.0013 | Win/lose count 15.5/1.0 (14.5)\n",
            "Epoch 057/100 | Loss 0.0299 | Win/lose count 8.5/1.0 (7.5)\n",
            "Epoch 058/100 | Loss 0.0019 | Win/lose count 11.5/3.0 (8.5)\n",
            "Epoch 059/100 | Loss 0.0016 | Win/lose count 10.0/4.0 (6.0)\n",
            "Epoch 060/100 | Loss 0.0020 | Win/lose count 9.5/3.0 (6.5)\n",
            "Epoch 061/100 | Loss 0.0031 | Win/lose count 6.0/1.0 (5.0)\n",
            "Epoch 062/100 | Loss 0.0271 | Win/lose count 8.5/1.0 (7.5)\n",
            "Epoch 063/100 | Loss 0.0246 | Win/lose count 22.5/3.0 (19.5)\n",
            "Epoch 064/100 | Loss 0.0030 | Win/lose count 10.5/4.0 (6.5)\n",
            "Epoch 065/100 | Loss 0.0027 | Win/lose count 15.0/4.0 (11.0)\n",
            "Epoch 066/100 | Loss 0.0077 | Win/lose count 3.5/2.0 (1.5)\n",
            "Epoch 067/100 | Loss 0.0024 | Win/lose count 12.0/3.0 (9.0)\n",
            "Epoch 068/100 | Loss 0.0013 | Win/lose count 3.0/2.0 (1.0)\n",
            "Epoch 069/100 | Loss 0.0267 | Win/lose count 13.5/3.0 (10.5)\n",
            "Epoch 070/100 | Loss 0.0270 | Win/lose count 18.0/4.0 (14.0)\n",
            "Epoch 071/100 | Loss 0.0021 | Win/lose count 9.5/2.0 (7.5)\n",
            "Epoch 072/100 | Loss 0.0314 | Win/lose count 10.0/1.0 (9.0)\n",
            "Epoch 073/100 | Loss 0.0018 | Win/lose count 17.0/3.0 (14.0)\n",
            "Epoch 074/100 | Loss 0.0259 | Win/lose count 20.0/3.0 (17.0)\n",
            "Epoch 075/100 | Loss 0.0285 | Win/lose count 7.5/0 (7.5)\n",
            "Epoch 076/100 | Loss 0.0026 | Win/lose count 15.5/7.0 (8.5)\n",
            "Epoch 077/100 | Loss 0.0019 | Win/lose count 20.5/1.0 (19.5)\n",
            "Epoch 078/100 | Loss 0.0018 | Win/lose count 9.5/1.0 (8.5)\n",
            "Epoch 079/100 | Loss 0.0016 | Win/lose count 14.5/3.0 (11.5)\n",
            "Epoch 080/100 | Loss 0.0063 | Win/lose count 13.0/2.0 (11.0)\n",
            "Epoch 081/100 | Loss 0.0012 | Win/lose count 5.0/1.0 (4.0)\n",
            "Epoch 082/100 | Loss 0.0022 | Win/lose count 18.0/3.0 (15.0)\n",
            "Epoch 083/100 | Loss 0.0017 | Win/lose count 18.5/4.0 (14.5)\n",
            "Epoch 084/100 | Loss 0.0275 | Win/lose count 13.0/1.0 (12.0)\n",
            "Epoch 085/100 | Loss 0.0065 | Win/lose count 12.0/2.0 (10.0)\n",
            "Epoch 086/100 | Loss 0.0018 | Win/lose count 9.5/2.0 (7.5)\n",
            "Epoch 087/100 | Loss 0.0243 | Win/lose count 10.0/0 (10.0)\n",
            "Epoch 088/100 | Loss 0.0017 | Win/lose count 9.0/1.0 (8.0)\n",
            "Epoch 089/100 | Loss 0.0034 | Win/lose count 14.5/1.0 (13.5)\n",
            "Epoch 090/100 | Loss 0.0025 | Win/lose count 16.0/1.0 (15.0)\n",
            "Epoch 091/100 | Loss 0.0274 | Win/lose count 13.0/3.0 (10.0)\n",
            "Epoch 092/100 | Loss 0.0038 | Win/lose count 15.0/3.0 (12.0)\n",
            "Epoch 093/100 | Loss 0.0834 | Win/lose count 7.5/2.0 (5.5)\n",
            "Epoch 094/100 | Loss 0.0318 | Win/lose count 18.0/3.0 (15.0)\n",
            "Epoch 095/100 | Loss 0.0303 | Win/lose count 14.0/3.0 (11.0)\n",
            "Epoch 096/100 | Loss 0.0289 | Win/lose count 13.0/4.0 (9.0)\n",
            "Epoch 097/100 | Loss 0.0058 | Win/lose count 14.5/1.0 (13.5)\n",
            "Epoch 098/100 | Loss 0.0012 | Win/lose count 15.5/2.0 (13.5)\n",
            "Epoch 099/100 | Loss 0.0026 | Win/lose count 16.5/3.0 (13.5)\n",
            "Epoch 100/100 | Loss 0.0088 | Win/lose count 9.0/4.0 (5.0)\n"
          ],
          "name": "stdout"
        },
        {
          "output_type": "execute_result",
          "data": {
            "text/html": [
              "<video alt=\"test\" controls>\n",
              "                <source src=\"data:video/mp4;base64,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\" type=\"video/mp4\" />\n",
              "             </video>"
            ],
            "text/plain": [
              "<IPython.core.display.HTML object>"
            ]
          },
          "metadata": {
            "tags": []
          },
          "execution_count": 14
        }
      ]
    },
    {
      "cell_type": "markdown",
      "metadata": {
        "id": "pR8C9bl1gfVB",
        "colab_type": "text"
      },
      "source": [
        "***\n",
        "***\n",
        "__Question 8__ Implement the DQN training algorithm using a CNN (for example, 2 convolutional layers and one final fully connected layer)."
      ]
    },
    {
      "cell_type": "code",
      "metadata": {
        "id": "GQpeVV_agfVC",
        "colab_type": "code",
        "colab": {}
      },
      "source": [
        "class DQN_CNN(DQN):\n",
        "    def __init__(self, *args,lr=0.1,**kwargs):\n",
        "        super(DQN_CNN, self).__init__(*args,**kwargs)\n",
        "\n",
        "        model = Sequential()\n",
        "        model.add(Conv2D(16,2,padding=\"same\",activation=\"relu\"))\n",
        "        model.add(MaxPooling2D((2,2)))\n",
        "        model.add(Conv2D(32,2,padding=\"same\",activation=\"relu\"))\n",
        "        model.add(MaxPooling2D((2,2)))\n",
        "        model.add(Flatten())\n",
        "        model.add(Dense(100,activation=\"sigmoid\"))\n",
        "        model.add(Dense(50,activation=\"sigmoid\"))\n",
        "        model.add(Dense(4))\n",
        "        \n",
        "        \n",
        "        model.compile(adam(lr=lr, decay=1e-4), \"mse\")\n",
        "        self.model = model"
      ],
      "execution_count": 0,
      "outputs": []
    },
    {
      "cell_type": "code",
      "metadata": {
        "id": "4LW1V2vlgfVF",
        "colab_type": "code",
        "colab": {
          "base_uri": "https://localhost:8080/",
          "height": 1000
        },
        "outputId": "75b75ea6-1c12-4130-8e9f-b4ca26630ee4"
      },
      "source": [
        "env = Environment(grid_size=size, max_time=T, temperature=0.3)\n",
        "agent = DQN_CNN(size, lr=.0001, epsilon = 0.1, memory_size=2000, batch_size = 128)\n",
        "train(agent,env,epochs_train,prefix='cnn_train')\n",
        "HTML(display_videos('cnn_train90.mp4'))"
      ],
      "execution_count": 47,
      "outputs": [
        {
          "output_type": "stream",
          "text": [
            "Epoch 001/100 | Loss 0.0072 | Win/lose count 6.0/5.0 (1.0)\n",
            "Epoch 002/100 | Loss 0.0045 | Win/lose count 6.0/3.0 (3.0)\n",
            "Epoch 003/100 | Loss 0.0129 | Win/lose count 2.5/10.0 (-7.5)\n",
            "Epoch 004/100 | Loss 0.0132 | Win/lose count 6.5/7.0 (-0.5)\n",
            "Epoch 005/100 | Loss 0.0095 | Win/lose count 10.0/18.0 (-8.0)\n",
            "Epoch 006/100 | Loss 0.0136 | Win/lose count 4.5/11.0 (-6.5)\n",
            "Epoch 007/100 | Loss 0.0183 | Win/lose count 5.0/6.0 (-1.0)\n",
            "Epoch 008/100 | Loss 0.0088 | Win/lose count 3.0/2.0 (1.0)\n",
            "Epoch 009/100 | Loss 0.0137 | Win/lose count 3.5/3.0 (0.5)\n",
            "Epoch 010/100 | Loss 0.0053 | Win/lose count 4.5/2.0 (2.5)\n",
            "Epoch 011/100 | Loss 0.0085 | Win/lose count 3.0/3.0 (0.0)\n",
            "Epoch 012/100 | Loss 0.0071 | Win/lose count 8.5/3.0 (5.5)\n",
            "Epoch 013/100 | Loss 0.0155 | Win/lose count 5.5/1.0 (4.5)\n",
            "Epoch 014/100 | Loss 0.0076 | Win/lose count 2.0/1.0 (1.0)\n",
            "Epoch 015/100 | Loss 0.0153 | Win/lose count 5.0/0 (5.0)\n",
            "Epoch 016/100 | Loss 0.0059 | Win/lose count 4.5/1.0 (3.5)\n",
            "Epoch 017/100 | Loss 0.0102 | Win/lose count 3.5/1.0 (2.5)\n",
            "Epoch 018/100 | Loss 0.0150 | Win/lose count 0.5/2.0 (-1.5)\n",
            "Epoch 019/100 | Loss 0.0259 | Win/lose count 8.0/8.0 (0.0)\n",
            "Epoch 020/100 | Loss 0.0125 | Win/lose count 6.0/3.0 (3.0)\n",
            "Epoch 021/100 | Loss 0.0012 | Win/lose count 3.0/1.0 (2.0)\n",
            "Epoch 022/100 | Loss 0.0098 | Win/lose count 3.0/5.0 (-2.0)\n",
            "Epoch 023/100 | Loss 0.0026 | Win/lose count 12.0/4.0 (8.0)\n",
            "Epoch 024/100 | Loss 0.0053 | Win/lose count 9.5/3.0 (6.5)\n",
            "Epoch 025/100 | Loss 0.0103 | Win/lose count 6.0/1.0 (5.0)\n",
            "Epoch 026/100 | Loss 0.0079 | Win/lose count 6.5/6.0 (0.5)\n",
            "Epoch 027/100 | Loss 0.0077 | Win/lose count 4.0/3.0 (1.0)\n",
            "Epoch 028/100 | Loss 0.0178 | Win/lose count 4.0/5.0 (-1.0)\n",
            "Epoch 029/100 | Loss 0.0081 | Win/lose count 6.5/1.0 (5.5)\n",
            "Epoch 030/100 | Loss 0.0064 | Win/lose count 4.0/3.0 (1.0)\n",
            "Epoch 031/100 | Loss 0.0202 | Win/lose count 3.5/3.0 (0.5)\n",
            "Epoch 032/100 | Loss 0.0192 | Win/lose count 5.0/2.0 (3.0)\n",
            "Epoch 033/100 | Loss 0.0234 | Win/lose count 3.5/1.0 (2.5)\n",
            "Epoch 034/100 | Loss 0.0204 | Win/lose count 11.0/1.0 (10.0)\n",
            "Epoch 035/100 | Loss 0.0065 | Win/lose count 3.0/3.0 (0.0)\n",
            "Epoch 036/100 | Loss 0.0117 | Win/lose count 10.0/2.0 (8.0)\n",
            "Epoch 037/100 | Loss 0.0056 | Win/lose count 4.5/2.0 (2.5)\n",
            "Epoch 038/100 | Loss 0.0047 | Win/lose count 1.0/0 (1.0)\n",
            "Epoch 039/100 | Loss 0.0095 | Win/lose count 6.5/2.0 (4.5)\n",
            "Epoch 040/100 | Loss 0.0074 | Win/lose count 7.5/2.0 (5.5)\n",
            "Epoch 041/100 | Loss 0.0098 | Win/lose count 8.5/2.0 (6.5)\n",
            "Epoch 042/100 | Loss 0.0066 | Win/lose count 9.5/2.0 (7.5)\n",
            "Epoch 043/100 | Loss 0.0047 | Win/lose count 4.5/3.0 (1.5)\n",
            "Epoch 044/100 | Loss 0.0051 | Win/lose count 11.0/4.0 (7.0)\n",
            "Epoch 045/100 | Loss 0.0165 | Win/lose count 6.0/1.0 (5.0)\n",
            "Epoch 046/100 | Loss 0.0120 | Win/lose count 12.0/3.0 (9.0)\n",
            "Epoch 047/100 | Loss 0.0128 | Win/lose count 11.0/4.0 (7.0)\n",
            "Epoch 048/100 | Loss 0.0199 | Win/lose count 21.0/0 (21.0)\n",
            "Epoch 049/100 | Loss 0.0036 | Win/lose count 4.0/3.0 (1.0)\n",
            "Epoch 050/100 | Loss 0.0024 | Win/lose count 6.5/3.0 (3.5)\n",
            "Epoch 051/100 | Loss 0.0127 | Win/lose count 4.0/3.0 (1.0)\n",
            "Epoch 052/100 | Loss 0.0056 | Win/lose count 14.5/4.0 (10.5)\n",
            "Epoch 053/100 | Loss 0.0190 | Win/lose count 8.0/4.0 (4.0)\n",
            "Epoch 054/100 | Loss 0.0033 | Win/lose count 10.0/2.0 (8.0)\n",
            "Epoch 055/100 | Loss 0.0338 | Win/lose count 10.5/6.0 (4.5)\n",
            "Epoch 056/100 | Loss 0.0112 | Win/lose count 6.5/6.0 (0.5)\n",
            "Epoch 057/100 | Loss 0.0134 | Win/lose count 8.0/5.0 (3.0)\n",
            "Epoch 058/100 | Loss 0.0059 | Win/lose count 11.5/2.0 (9.5)\n",
            "Epoch 059/100 | Loss 0.0098 | Win/lose count 2.5/2.0 (0.5)\n",
            "Epoch 060/100 | Loss 0.0081 | Win/lose count 15.5/4.0 (11.5)\n",
            "Epoch 061/100 | Loss 0.0066 | Win/lose count 9.0/1.0 (8.0)\n",
            "Epoch 062/100 | Loss 0.0166 | Win/lose count 6.0/1.0 (5.0)\n",
            "Epoch 063/100 | Loss 0.0054 | Win/lose count 8.0/1.0 (7.0)\n",
            "Epoch 064/100 | Loss 0.0052 | Win/lose count 7.0/2.0 (5.0)\n",
            "Epoch 065/100 | Loss 0.0044 | Win/lose count 8.0/2.0 (6.0)\n",
            "Epoch 066/100 | Loss 0.0138 | Win/lose count 9.0/0 (9.0)\n",
            "Epoch 067/100 | Loss 0.0033 | Win/lose count 10.0/7.0 (3.0)\n",
            "Epoch 068/100 | Loss 0.0020 | Win/lose count 7.0/5.0 (2.0)\n",
            "Epoch 069/100 | Loss 0.0043 | Win/lose count 5.5/2.0 (3.5)\n",
            "Epoch 070/100 | Loss 0.0040 | Win/lose count 14.5/0 (14.5)\n",
            "Epoch 071/100 | Loss 0.0034 | Win/lose count 7.0/1.0 (6.0)\n",
            "Epoch 072/100 | Loss 0.0292 | Win/lose count 11.5/5.0 (6.5)\n",
            "Epoch 073/100 | Loss 0.0170 | Win/lose count 17.0/4.0 (13.0)\n",
            "Epoch 074/100 | Loss 0.0177 | Win/lose count 5.0/3.0 (2.0)\n",
            "Epoch 075/100 | Loss 0.0310 | Win/lose count 11.5/2.0 (9.5)\n",
            "Epoch 076/100 | Loss 0.0053 | Win/lose count 11.0/1.0 (10.0)\n",
            "Epoch 077/100 | Loss 0.0153 | Win/lose count 11.0/1.0 (10.0)\n",
            "Epoch 078/100 | Loss 0.0158 | Win/lose count 22.0/1.0 (21.0)\n",
            "Epoch 079/100 | Loss 0.0059 | Win/lose count 8.5/3.0 (5.5)\n",
            "Epoch 080/100 | Loss 0.0057 | Win/lose count 8.5/0 (8.5)\n",
            "Epoch 081/100 | Loss 0.0506 | Win/lose count 17.0/5.0 (12.0)\n",
            "Epoch 082/100 | Loss 0.0052 | Win/lose count 10.5/0 (10.5)\n",
            "Epoch 083/100 | Loss 0.0040 | Win/lose count 9.5/1.0 (8.5)\n",
            "Epoch 084/100 | Loss 0.0144 | Win/lose count 11.5/1.0 (10.5)\n",
            "Epoch 085/100 | Loss 0.0196 | Win/lose count 9.0/2.0 (7.0)\n",
            "Epoch 086/100 | Loss 0.0034 | Win/lose count 13.0/2.0 (11.0)\n",
            "Epoch 087/100 | Loss 0.0034 | Win/lose count 11.5/0 (11.5)\n",
            "Epoch 088/100 | Loss 0.0055 | Win/lose count 16.0/2.0 (14.0)\n",
            "Epoch 089/100 | Loss 0.0043 | Win/lose count 21.0/3.0 (18.0)\n",
            "Epoch 090/100 | Loss 0.0037 | Win/lose count 16.0/2.0 (14.0)\n",
            "Epoch 091/100 | Loss 0.0148 | Win/lose count 5.5/3.0 (2.5)\n",
            "Epoch 092/100 | Loss 0.0050 | Win/lose count 9.5/2.0 (7.5)\n",
            "Epoch 093/100 | Loss 0.0044 | Win/lose count 13.5/0 (13.5)\n",
            "Epoch 094/100 | Loss 0.0287 | Win/lose count 6.0/1.0 (5.0)\n",
            "Epoch 095/100 | Loss 0.0039 | Win/lose count 8.5/4.0 (4.5)\n",
            "Epoch 096/100 | Loss 0.0446 | Win/lose count 16.5/4.0 (12.5)\n",
            "Epoch 097/100 | Loss 0.0070 | Win/lose count 10.0/2.0 (8.0)\n",
            "Epoch 098/100 | Loss 0.0167 | Win/lose count 12.5/4.0 (8.5)\n",
            "Epoch 099/100 | Loss 0.0131 | Win/lose count 7.0/1.0 (6.0)\n",
            "Epoch 100/100 | Loss 0.0284 | Win/lose count 13.0/3.0 (10.0)\n"
          ],
          "name": "stdout"
        },
        {
          "output_type": "execute_result",
          "data": {
            "text/html": [
              "<video alt=\"test\" controls>\n",
              "                <source src=\"data:video/mp4;base64,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\" type=\"video/mp4\" />\n",
              "             </video>"
            ],
            "text/plain": [
              "<IPython.core.display.HTML object>"
            ]
          },
          "metadata": {
            "tags": []
          },
          "execution_count": 47
        }
      ]
    },
    {
      "cell_type": "markdown",
      "metadata": {
        "id": "-jTDRoQggfVI",
        "colab_type": "text"
      },
      "source": [
        "***\n",
        "***\n",
        "__Question 9__ Test both algorithms and compare their performances. Which issue(s) do you observe? Observe also different behaviors by changing the temperature."
      ]
    },
    {
      "cell_type": "code",
      "metadata": {
        "id": "KrEhxvgWgfVJ",
        "colab_type": "code",
        "colab": {
          "base_uri": "https://localhost:8080/",
          "height": 935
        },
        "outputId": "a76a09cd-a749-49c1-b7e6-a1d4dc5a0f8b"
      },
      "source": [
        "env = Environment(grid_size=size, max_time=T,temperature=0.3)\n",
        "agent_cnn = DQN_CNN(size, lr=.0001, epsilon = 0.1, memory_size=2000, batch_size = 32)\n",
        "agent_cnn.load(name_weights='cnn_trainmodel.h5',name_model='cnn_trainmodel.json')\n",
        "\n",
        "agent_fc = DQN_FC(size, lr=.0001, epsilon = 0.1, memory_size=2000, batch_size = 32)\n",
        "agent_fc.load(name_weights='fc_trainmodel.h5',name_model='fc_trainmodel.json')\n",
        "print('Test of the CNN')\n",
        "test(agent_cnn,env,epochs_test,prefix='cnn_test')\n",
        "print('Test of the FC')\n",
        "test(agent_fc,env,epochs_test,prefix='fc_test')"
      ],
      "execution_count": 48,
      "outputs": [
        {
          "output_type": "stream",
          "text": [
            "Test of the CNN\n",
            "Win/lose count 12.0/1.0. Average score (11.0)\n",
            "Win/lose count 9.0/2.0. Average score (9.0)\n",
            "Win/lose count 12.5/2.0. Average score (9.5)\n",
            "Win/lose count 9.5/1.0. Average score (9.25)\n",
            "Win/lose count 15.0/0. Average score (10.4)\n",
            "Win/lose count 16.5/2.0. Average score (11.083333333333334)\n",
            "Win/lose count 8.0/1.0. Average score (10.5)\n",
            "Win/lose count 14.5/3.0. Average score (10.625)\n",
            "Win/lose count 8.0/2.0. Average score (10.11111111111111)\n",
            "Win/lose count 8.5/1.0. Average score (9.85)\n",
            "Win/lose count 5.0/5.0. Average score (8.954545454545455)\n",
            "Win/lose count 4.5/2.0. Average score (8.416666666666666)\n",
            "Win/lose count 8.0/1.0. Average score (8.307692307692308)\n",
            "Win/lose count 6.5/4.0. Average score (7.892857142857143)\n",
            "Win/lose count 26.0/6.0. Average score (8.7)\n",
            "Win/lose count 7.5/1.0. Average score (8.5625)\n",
            "Win/lose count 8.5/2.0. Average score (8.441176470588236)\n",
            "Win/lose count 12.5/1.0. Average score (8.61111111111111)\n",
            "Win/lose count 11.5/2.0. Average score (8.657894736842104)\n",
            "Win/lose count 10.5/1.0. Average score (8.7)\n",
            "Win/lose count 10.5/3.0. Average score (8.642857142857142)\n",
            "Win/lose count 12.5/4.0. Average score (8.636363636363637)\n",
            "Win/lose count 15.0/1.0. Average score (8.869565217391305)\n",
            "Win/lose count 9.0/2.0. Average score (8.791666666666666)\n",
            "Win/lose count 19.0/4.0. Average score (9.04)\n",
            "Final score: 9.04\n",
            "Test of the FC\n",
            "Win/lose count 4.5/2.0. Average score (2.5)\n",
            "Win/lose count 13.0/2.0. Average score (6.75)\n",
            "Win/lose count 13.0/0. Average score (8.833333333333334)\n",
            "Win/lose count 23.5/5.0. Average score (11.25)\n",
            "Win/lose count 8.0/2.0. Average score (10.2)\n",
            "Win/lose count 12.0/1.0. Average score (10.333333333333334)\n",
            "Win/lose count 8.5/5.0. Average score (9.357142857142858)\n",
            "Win/lose count 9.0/3.0. Average score (8.9375)\n",
            "Win/lose count 7.0/4.0. Average score (8.277777777777779)\n",
            "Win/lose count 9.5/1.0. Average score (8.3)\n",
            "Win/lose count 12.5/2.0. Average score (8.5)\n",
            "Win/lose count 9.0/3.0. Average score (8.291666666666666)\n",
            "Win/lose count 15.0/3.0. Average score (8.576923076923077)\n",
            "Win/lose count 8.5/0. Average score (8.571428571428571)\n",
            "Win/lose count 12.0/2.0. Average score (8.666666666666666)\n",
            "Win/lose count 11.5/2.0. Average score (8.71875)\n",
            "Win/lose count 11.0/2.0. Average score (8.735294117647058)\n",
            "Win/lose count 3.5/0. Average score (8.444444444444445)\n",
            "Win/lose count 8.0/5.0. Average score (8.157894736842104)\n",
            "Win/lose count 5.5/1.0. Average score (7.975)\n",
            "Win/lose count 9.0/3.0. Average score (7.880952380952381)\n",
            "Win/lose count 6.0/2.0. Average score (7.704545454545454)\n",
            "Win/lose count 18.0/1.0. Average score (8.108695652173912)\n",
            "Win/lose count 17.5/4.0. Average score (8.333333333333334)\n",
            "Win/lose count 7.0/2.0. Average score (8.2)\n",
            "Final score: 8.2\n"
          ],
          "name": "stdout"
        }
      ]
    },
    {
      "cell_type": "code",
      "metadata": {
        "id": "w--ZfzxpgfVN",
        "colab_type": "code",
        "colab": {
          "base_uri": "https://localhost:8080/",
          "height": 293
        },
        "outputId": "f0f4d83a-222d-40ba-ce10-9a73df73185b"
      },
      "source": [
        "HTML(display_videos('cnn_test24.mp4'))"
      ],
      "execution_count": 49,
      "outputs": [
        {
          "output_type": "execute_result",
          "data": {
            "text/html": [
              "<video alt=\"test\" controls>\n",
              "                <source src=\"data:video/mp4;base64,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\" type=\"video/mp4\" />\n",
              "             </video>"
            ],
            "text/plain": [
              "<IPython.core.display.HTML object>"
            ]
          },
          "metadata": {
            "tags": []
          },
          "execution_count": 49
        }
      ]
    },
    {
      "cell_type": "code",
      "metadata": {
        "id": "nZfkShkbgfVR",
        "colab_type": "code",
        "colab": {
          "base_uri": "https://localhost:8080/",
          "height": 293
        },
        "outputId": "70b1ade3-a8e4-4ab9-f77d-c46a66736f42"
      },
      "source": [
        "HTML(display_videos('fc_test9.mp4'))"
      ],
      "execution_count": 50,
      "outputs": [
        {
          "output_type": "execute_result",
          "data": {
            "text/html": [
              "<video alt=\"test\" controls>\n",
              "                <source src=\"data:video/mp4;base64,AAAAIGZ0eXBpc29tAAACAGlzb21pc28yYXZjMW1wNDEAAAAIZnJlZQAAGSZtZGF0AAACrQYF//+p3EXpvebZSLeWLNgg2SPu73gyNjQgLSBjb3JlIDE1MiByMjg1NCBlOWE1OTAzIC0gSC4yNjQvTVBFRy00IEFWQyBjb2RlYyAtIENvcHlsZWZ0IDIwMDMtMjAxNyAtIGh0dHA6Ly93d3cudmlkZW9sYW4ub3JnL3gyNjQuaHRtbCAtIG9wdGlvbnM6IGNhYmFjPTEgcmVmPTMgZGVibG9jaz0xOjA6MCBhbmFseXNlPTB4MToweDExMSBtZT1oZXggc3VibWU9NyBwc3k9MSBwc3lfcmQ9MS4wMDowLjAwIG1peGVkX3JlZj0xIG1lX3JhbmdlPTE2IGNocm9tYV9tZT0xIHRyZWxsaXM9MSA4eDhkY3Q9MCBjcW09MCBkZWFkem9uZT0yMSwxMSBmYXN0X3Bza2lwPTEgY2hyb21hX3FwX29mZnNldD00IHRocmVhZHM9MyBsb29rYWhlYWRfdGhyZWFkcz0xIHNsaWNlZF90aHJlYWRzPTAgbnI9MCBkZWNpbWF0ZT0xIGludGVybGFjZWQ9MCBibHVyYXlfY29tcGF0PTAgY29uc3RyYWluZWRfaW50cmE9MCBiZnJhbWVzPTMgYl9weXJhbWlkPTIgYl9hZGFwdD0xIGJfYmlhcz0wIGRpcmVjdD0xIHdlaWdodGI9MSBvcGVuX2dvcD0wIHdlaWdodHA9MiBrZXlpbnQ9MjUwIGtleWludF9taW49MjUgc2NlbmVjdXQ9NDAgaW50cmFfcmVmcmVzaD0wIHJjX2xvb2thaGVhZD00MCByYz1jcmYgbWJ0cmVlPTEgY3JmPTIzLjAgcWNvbXA9MC42MCBxcG1pbj0wIHFwbWF4PTY5IHFwc3RlcD00IGlwX3JhdGlvPTEuNDAgYXE9MToxLjAwAIAAAAMhZYiEADf//vaH+BTZWBP+Wb/9DX/cj9uPrP1xYyEE31qvIejAGS+1H+b/rFFs6Z6UB/fgCJQAc24ZwpHZJ3iSV5hJYYfhgXwKXAUV8CmkyLz192yR0ErYiSr0W6JzDYWmZ6csugEY7htwJwvCfPSY72HMm0pemZRicWUfaYHojff/OjSh38M/CaadDfUTzeO7qeQrZY7twHmLnKlBYszzwBclBWJjYmM4ZXU1Nx32l2/CRYFL1WoU9lvEiXprRxqs1xHxC0ygSkoQisD1DamRzs0SnKjadD7PWICj9LpRnMeLaPYeyWd6PXbp8aGPFUHTkPABjsf5oQlHTuKejwCcQaeATmRauMsC4fRbmLC2oxEjNPNd0y4gH8BjpsesgD4BSl7bXSUxPVKJhqaQhZ7AuDzhhoDo1bpJY6OQRkP+zyOx0pCcFIDm2BU9pVLiQOkIa2d3jJPsB2UJ/5RoYj8HBDdGCHX8JIRomQcKyx3K4/8QsvDzFZxThcY1htwf7+G54rzI+UwdKF04Y8Y7CgLeNtGzrAScUcjy6L3MJzBJvlPxCz+kdfPMBurzMXzxWuu0FIJVIfTD26D/tZSUvyYfX2RLSyzHXmHMwAesScyqIY7uq6FUatlVqKqKiJBNhQic4pjJYFj4+PwZRHfGfjjQzP0XAKzYOcHjgiOdx1RYAqg6rt0jmlMeCOCryEVn/S4UTHkgIV1/VpOLUwR6u3HIsMKAmozTPJTDVnS206QzQqQA8mU76hcbDva6e/4LTp3HABgn1KUZ0/ZReb9WJUAqmRQYbPk6ZjZQqjkM6X/DtkvWkpMOE00XQR0/y6cKB1j3wfr0I2JX2512htOfsovDDLuzOAH5r9L7FH3pg884/j5oxl+dXURV7Pf14OYnmScAYFQAx2s+6Guewg8SvXLqItesMV/ZrXA1D1gwvInZwIvYQzpkgXqN0Aq/74muh57US2P7ZcBSLFFbt6gnpAxiwXvbOp7KmnsQMu0niJ32eiJEoE6tZzmnN82pojzvkj5cJWpJKHI19AJCQYTLh/o3/BTnULSGUIhRLpW39Z2CAArJAAAAIUGaIWxDf/6nhABJvkcGLOZY8I58CmrptvgUk/1Ga3QlNwAAABpBmkM8IZMphDf//qeEAC/+wf5a6W5wTRPofQAAABABnmJqQr8AJrK5FXgCf/WAAAAAHkGaZknhDyZTAhv//qeEABRwqb0Sf5WDH7rtaT1T0wAAABFBnoRFETwr/wAQXNG80LB/pwAAAA4BnqVqQr8AEFlGMm5NTQAAABtBmqlJqEFomUwIZ//+nhAATVUcuieZRhD+I+kAAAASQZ7HRREsK/8AD+MxewsF+c3AAAAADgGe6GpCvwAP4zWPOCNuAAAAHUGa60moQWyZTBRMM//+nhAATb4h/jFdyN2bCtZhAAAAEAGfCmpCvwAP4ETNN9JB00gAAAAYQZsMSeEKUmUwIZ/+nhAAM76+/kSI+sQOAAAAGEGbLUnhDomUwIZ//p4QACDfEPOt0DJIxQAAABhBm05J4Q8mUwIZ//6eEAAf319/IkR9YqkAAAAYQZtvSeEPJlMCGf/+nhAAFYr3GhdN92BlAAAAGEGbkEnhDyZTAhn//p4QABYa9xoXTfdgRAAAABlBm7FJ4Q8mUwIb//6nhAAFs91P1HGhIgnAAAAAGUGb0knhDyZTAhv//qeEAAO0Dwp1nT7sVoEAAAAaQZv0SeEPJlMFETw3//6nhAAFrEMvb3U/baIAAAAQAZ4TakK/AAS15omRNK1EwAAAABxBmhZJ4Q8mUwU8N//+p4QACGj5qms25rx0+2UJAAAAEAGeNWpCvwAHE5w17zStH8AAAAAYQZo5SeEPJlMCGf/+nhAAIN8Q863QMkjFAAAAEkGeV0URPCv/AArODru7+kXSwQAAABABnnhqQr8ACstfOdaGF+vAAAAAGUGaekmoQWiZTAhn//6eEAAf3193ac3cXqcAAAAfQZqcSeEKUmUwURLDP/6eEAAvq+64jn9I6+/aMtrQcAAAABABnrtqQr8ACfWRCbjPr1dJAAAAGEGavUnhDomUwIZ//p4QAC/+vu7Tm7i7HQAAABhBmt5J4Q8mUwIZ//6eEAAuvum+ipWa+g4AAAAYQZr/SeEPJlMCGf/+nhAAHc9ffyJEfWLHAAAAGEGbAEnhDyZTAhn//p4QABNviH9shj6x4wAAABlBmyFJ4Q8mUwIb//6nhAADSurSCET/LpqAAAAAHUGbQ0nhDyZTBRE8M//+nhAAFGr3Ncc/m19ffdBxAAAADwGfYmpCvwAEN2I8mB6+3wAAABhBm2RJ4Q8mUwIZ//6eEAAU+vcaF033YI0AAAAYQZuFSeEPJlMCG//+p4QABYcVpBCJ/lx7AAAAGEGbpknhDyZTAhv//qeEAAWrFaQQif5ccwAAABlBm8dJ4Q8mUwId//6plgAC7aWVxml/bErBAAAAIEGb60nhDyZTAhv//qeEAAm3w58yyxMjuJBB+hgfoSiAAAAAFUGeCUURPC//AAXSgFsiAsuRbn5BFAAAAA8Bnih0Qr8ABPssGDZjiu0AAAAQAZ4qakK/AAfFnhDxoaz9gAAAABxBmi1JqEFomUwU8N/+p4QADng8TXGqJfon+Rp4AAAAEAGeTGpCvwAMQCxr3mlaBMEAAAAcQZpPSeEKUmUwUsN//qeEAA6Pvs+5kYWzFCObvQAAABABnm5qQr8AC/EdudaGF+HBAAAAHEGacUnhDomUwUTDf/6nhAAJN8dPuZGFsxQjnnQAAAAQAZ6QakK/AAdsF5zrQwwLwAAAABxBmpNJ4Q8mUwU8N//+p4QACKj5qms25rx0+2SpAAAAEAGesmpCvwAHFZ8xuhyQebgAAAAcQZq1SeEPJlMFPDf//qeEAA0rq2Yn+rt7qftf2AAAABABntRqQr8ACs2RCbjPr1Z5AAAAHEGa10nhDyZTBTw3//6nhAANP7B/nKdeFGtzJbgAAAAQAZ72akK/AArLXznWhhfrwQAAABxBmvlJ4Q8mUwU8O//+qZYABCfjz+ZoVAtFMRA3AAAAEAGfGGpCvwAGwJkmm+kg9HAAAAAZQZscSeEPJlMCHf/+qZYABEEWG6MQjn2h4QAAABJBnzpFETwr/wAG6duF2G+l7cwAAAAQAZ9bakK/AAcTnDXvNK0fwQAAABJBm0BJqEFomUwIb//+p4QAAScAAAATQZ9+RREsL/8AB5d2+ixXcWj8ugAAABABn510Qr8ACs9AOdscacYgAAAAEAGfn2pCvwAKg3IYfQEg7gkAAAAdQZuCSahBbJlMFEw3//6nhAAId8dPutLM1Nui5QgAAAAQAZ+hakK/AAcVXBrjxVt3oQAAABlBm6NJ4QpSZTAh3/6plgAC7aWVxml/bErAAAAAHUGbx0nhDomUwIb//qeEAAXX3U/ffTo5lliZHbs3AAAAFUGf5UURPC//AAOfu30WLawY4dWaYQAAAA8BngR0Qr8ABPssGDZjiu0AAAAQAZ4GakK/AAUelG80xVuKwQAAABpBmghJqEFomUwId//+qZYAAylSDNAH0f7XkAAAABJBmixJ4QpSZTAh3/6plgAAlYAAAAAMQZ5KRTRML/8AALKBAAAADwGeaXRCvwAFDso4jsuzvwAAAA8BnmtqQr8ABQ7KN1nq0SkAAAASQZpwSahBaJlMCG///qeEAAEnAAAADEGejkURLC//AACygQAAAA8Bnq10Qr8ABQ7KOI7Ls78AAAAPAZ6vakK/AAUOyjdZ6tEpAAAAEkGatEmoQWyZTAhv//6nhAABJwAAAAxBntJFFSwv/wAAsoEAAAAPAZ7xdEK/AAUOyjiOy7O/AAAADwGe82pCvwAFDso3WerRKQAAABpBmvVJqEFsmUwId//+qZYAAy3tLwtQT+xEwQAAABtBmxhJ4QpSZTAh3/6plgAEx+PP5F6R9UE/CkwAAAASQZ82RTRMK/8AB5n4HQksLcxBAAAAEAGfV2pCvwAHmBec60MMCcEAAAAbQZtcSahBaJlMCG///qeEAAZG+0j0Pdg/i7DgAAAAEEGfekURLC//AAO2nrIKBlEAAAAPAZ+ZdEK/AATW0IDJLueAAAAAEAGfm2pCvwAFHsI8lzPlcIEAAAAdQZueSahBbJlMFEw3//6nhAAJaPmqazbmvHT7Y6kAAAAQAZ+9akK/AAfDnDXvNK0XwAAAABpBm6BJ4QpSZTBSw7/+qZYABMfjz+XaR5zkwAAAABABn99qQr8AB5gXnOtDDAnBAAAAGEGbxEnhDomUwIb//qeEAAZHAz/dg/i7DgAAABBBn+JFFTwv/wADtp6yCgZRAAAADwGeAXRCvwAE1tCAyS7ngAAAABABngNqQr8ABR7CPJcz5XCBAAAAHEGaBkmoQWiZTBTw3/6nhAAJaPmqazbmvHT7Y6kAAAAQAZ4lakK/AAfDnDXvNK0XwQAAABpBmihJ4QpSZTBSw7/+qZYABMfjz+XaR5zkwQAAABABnkdqQr8AB5gXnOtDDAnAAAAAEUGaTEnhDomUwIb//qeEAAEnAAAADEGeakUVPC//AACygQAAAA8Bnol0Qr8ABMlSOI7Ls88AAAAPAZ6LakK/AATJUjdZ6tE+AAAAHkGajkmoQWiZTBTw3/6nhAAGT9YbmWWJkd92tLi7DwAAABABnq1qQr8ABR7CPJcz5XCBAAAAHkGasEnhClJlMFLDf/6nhAAJaPmqazbmvI4Nn+SEwQAAABABns9qQr8AB8OcNe80rRfAAAAAGUGa0UnhDomUwId//qmWAATH486WdHU8ycAAAAASQZr1SeEPJlMCHf/+qZYAAJWBAAAAEkGfE0URPC//AAivvFiup6YMOAAAABABnzJ0Qr8AC/SLKvAivDmAAAAAEAGfNGpCvwAL8R251oYX4cEAAAAcQZs5SahBaJlMCG///qeEAAk3x0+60szU26Lj+AAAABVBn1dFESwv/wAFiZYrdpQ0+iyu3zkAAAAQAZ92dEK/AAdrieKTbJYdgQAAABABn3hqQr8ABPrCPJcz5XaAAAAAEkGbfUmoQWyZTAhv//6nhAABJwAAABNBn5tFFSwv/wAF0TZyZtw4JdMMAAAADwGfunRCvwAHxjDyhoGcJwAAABABn7xqQr8AB8QXnOtDDAfBAAAAHUGbv0moQWyZTBRMN//+p4QACSj5qms25rx0+2P4AAAAEAGf3mpCvwAHbZ8xuhyQeTgAAAAcQZvBSeEKUmUwUsN//qeEAAk3x0+5kYWzFCOedQAAABABn+BqQr8AB2wXnOtDDAvAAAAAHEGb40nhDomUwUTDf/6nhAAIqPmqazbmvHT7ZKkAAAAQAZ4CakK/AAcVnzG6HJB5uAAAABxBmgVJ4Q8mUwU8N//+p4QADSurZif6u3up+1/ZAAAAEAGeJGpCvwAKzZEJuM+vVnkAAAAcQZonSeEPJlMFPDf//qeEAA0/sH+cp14Ua3MluQAAABABnkZqQr8ACstfOdaGF+vBAAAAHEGaSUnhDyZTBTwz//6eEAAf319/ULe5rj6042AAAAAQAZ5oakK/AAbAmSab6SD0cAAAABhBmmpJ4Q8mUwIb//6nhAAFqxWkEIn+XHMAAAAYQZqLSeEPJlMCG//+p4QABc8VpBCJ/lxrAAAAHUGarknhDyZTAhv//qeEAAZP1huZZYmR3w882vYaAAAAEkGezEURPCv/AAUey4N4bLN0vQAAABABnu1qQr8ABR7CPJcz5XCBAAAAHEGa8EmoQWiZTBTw3/6nhAAJaPmqazbmvHT7Y6kAAAAQAZ8PakK/AAfDnDXvNK0XwAAAABpBmxJJ4QpSZTBSw7/+qZYABMfjz+XaR5zkwAAAABABnzFqQr8AB5gXnOtDDAnBAAAAGEGbNknhDomUwIb//qeEAAZHAz/dg/i7DgAAABBBn1RFFTwv/wADtp6yCgZQAAAADwGfc3RCvwAE1tCAyS7ngQAAABABn3VqQr8ABR7CPJcz5XCAAAAAHEGbeEmoQWiZTBTw3/6nhAAJaPmqazbmvHT7Y6kAAAAQAZ+XakK/AAfDnDXvNK0XwQAAABpBm5pJ4QpSZTBSw7/+qZYABMfjz+XaR5zkwAAAABABn7lqQr8AB5gXnOtDDAnBAAAAGEGbvknhDomUwIb//qeEAAZHAz/dg/i7DgAAABBBn9xFFTwv/wADtp6yCgZRAAAADwGf+3RCvwAE1tCAyS7ngQAAABABn/1qQr8ABR7CPJcz5XCAAAAAHEGb4EmoQWiZTBTw3/6nhAAJaPmqazbmvHT7Y6gAAAAQAZ4fakK/AAfDnDXvNK0XwQAAABpBmgJJ4QpSZTBSw7/+qZYABMfjz+XaR5zkwAAAABABniFqQr8AB5gXnOtDDAnBAAAAGEGaJknhDomUwIb//qeEAAZHAz/dg/i7DgAAABBBnkRFFTwv/wADtp6yCgZRAAAADwGeY3RCvwAE1tCAyS7ngQAAABABnmVqQr8ABR7CPJcz5XCBAAAAHEGaaEmoQWiZTBTw3/6nhAAJaPmqazbmvHT7Y6kAAAAQAZ6HakK/AAfDnDXvNK0XwAAAABlBmopJ4QpSZTBSw3/+p4QACXfHT7mSsv+TAAAAEAGeqWpCvwAHmBec60MMCcEAAAAYQZquSeEOiZTAhv/+p4QABkcDP92D+LsOAAAAEEGezEUVPC//AAO2nrIKBlAAAAAPAZ7rdEK/AATW0IDJLueBAAAAEAGe7WpCvwAFHsI8lzPlcIEAAAAaQZrvSahBaJlMCG///qeEAAmqALNttML56UEAAAAaQZsSSeEKUmUwIb/+p4QACbfI7/17M+CLvoAAAAASQZ8wRTRMK/8ADEQ0u7v6RcXAAAAAEAGfUWpCvwAMQR251oYX30EAAAAcQZtUSahBaJlMFPDv/qmWAATH48/l2e1CyFLpKwAAABABn3NqQr8AB5gXnOtDDAnAAAAAHEGbeEnhClJlMCG//qeEAAZJvHVMh/DXeifva3kAAAAQQZ+WRTRML/8AA7aesgoGUAAAAA8Bn7V0Qr8ABNbQgMku54EAAAAQAZ+3akK/AAUewjyXM+VwgQAAABxBm7pJqEFomUwU8N/+p4QACWj5qms25rx0+2OoAAAAEAGf2WpCvwAHw5w17zStF8EAAAAaQZvcSeEKUmUwUsO//qmWAATH48/l2kec5MAAAAAQAZ/7akK/AAeYF5zrQwwJwQAAABhBm+BJ4Q6JlMCG//6nhAAGRwM/3YP4uw8AAAAQQZ4eRRU8L/8AA7aesgoGUAAAAA8Bnj10Qr8ABNbQgMku54AAAAAQAZ4/akK/AAUewjyXM+VwgQAAABJBmiRJqEFomUwIZ//+nhAABHwAAAAMQZ5CRREsL/8AALKBAAAAEAGeYXRCvwAHxsVi9BLc48AAAAAPAZ5jakK/AAUOyjdZ6tEpAAAAHUGaZkmoQWyZTBRMM//+nhAAJKIc6bBeiOvv6bzBAAAAEAGehWpCvwAHw5w17zStF8EAAAAaQZqJS+EIQpSRGCCgH8gH9h4AhX/+OEAAEXEAAAAmQZ6nRTRMK/8Cr2PtQcTdqsNJJuWqhgcstbvNKiCaITzQmZfVCTAAAAAiAZ7IakK/Aq9j7UHE3arDSSblqoYHLLW7zSogmiEduHmXGAAAC9Btb292AAAAbG12aGQAAAAAAAAAAAAAAAAAAAPoAAAfkAABAAABAAAAAAAAAAAAAAAAAQAAAAAAAAAAAAAAAAAAAAEAAAAAAAAAAAAAAAAAAEAAAAAAAAAAAAAAAAAAAAAAAAAAAAAAAAAAAAAAAAACAAAK+nRyYWsAAABcdGtoZAAAAAMAAAAAAAAAAAAAAAEAAAAAAAAfkAAAAAAAAAAAAAAAAAAAAAAAAQAAAAAAAAAAAAAAAAAAAAEAAAAAAAAAAAAAAAAAAEAAAAABEAAAARAAAAAAACRlZHRzAAAAHGVsc3QAAAAAAAAAAQAAH5AAAAQAAAEAAAAACnJtZGlhAAAAIG1kaGQAAAAAAAAAAAAAAAAAADIAAAGUAFXEAAAAAAAtaGRscgAAAAAAAAAAdmlkZQAAAAAAAAAAAAAAAFZpZGVvSGFuZGxlcgAAAAodbWluZgAAABR2bWhkAAAAAQAAAAAAAAAAAAAAJGRpbmYAAAAcZHJlZgAAAAAAAAABAAAADHVybCAAAAABAAAJ3XN0YmwAAACVc3RzZAAAAAAAAAABAAAAhWF2YzEAAAAAAAAAAQAAAAAAAAAAAAAAAAAAAAABEAEQAEgAAABIAAAAAAAAAAEAAAAAAAAAAAAAAAAAAAAAAAAAAAAAAAAAAAAAAAAAAAAY//8AAAAvYXZjQwH0AA3/4QAXZ/QADZGbKCIR0IAAAAMAgAAAGQeKFMsBAAVo6+PESAAAABhzdHRzAAAAAAAAAAEAAADKAAACAAAAABRzdHNzAAAAAAAAAAEAAAABAAAFqGN0dHMAAAAAAAAAswAAAAIAAAQAAAAAAQAABgAAAAABAAACAAAAAAEAAAgAAAAAAgAAAgAAAAABAAAIAAAAAAIAAAIAAAAAAQAABgAAAAABAAACAAAAAAcAAAQAAAAAAQAABgAAAAABAAACAAAAAAEAAAYAAAAAAQAAAgAAAAABAAAIAAAAAAIAAAIAAAAAAQAABAAAAAABAAAGAAAAAAEAAAIAAAAABQAABAAAAAABAAAGAAAAAAEAAAIAAAAABAAABAAAAAABAAAKAAAAAAEAAAQAAAAAAQAAAAAAAAABAAACAAAAAAEAAAYAAAAAAQAAAgAAAAABAAAGAAAAAAEAAAIAAAAAAQAABgAAAAABAAACAAAAAAEAAAYAAAAAAQAAAgAAAAABAAAGAAAAAAEAAAIAAAAAAQAABgAAAAABAAACAAAAAAEAAAYAAAAAAQAAAgAAAAABAAAIAAAAAAIAAAIAAAAAAQAACgAAAAABAAAEAAAAAAEAAAAAAAAAAQAAAgAAAAABAAAGAAAAAAEAAAIAAAAAAQAABAAAAAABAAAKAAAAAAEAAAQAAAAAAQAAAAAAAAABAAACAAAAAAEAAAQAAAAAAQAACgAAAAABAAAEAAAAAAEAAAAAAAAAAQAAAgAAAAABAAAKAAAAAAEAAAQAAAAAAQAAAAAAAAABAAACAAAAAAEAAAoAAAAAAQAABAAAAAABAAAAAAAAAAEAAAIAAAAAAQAABAAAAAABAAAIAAAAAAIAAAIAAAAAAQAACgAAAAABAAAEAAAAAAEAAAAAAAAAAQAAAgAAAAABAAAGAAAAAAEAAAIAAAAAAQAABgAAAAABAAACAAAAAAEAAAoAAAAAAQAABAAAAAABAAAAAAAAAAEAAAIAAAAAAQAABgAAAAABAAACAAAAAAEAAAYAAAAAAQAAAgAAAAABAAAKAAAAAAEAAAQAAAAAAQAAAAAAAAABAAACAAAAAAEAAAYAAAAAAQAAAgAAAAABAAAGAAAAAAEAAAIAAAAAAQAABAAAAAABAAAKAAAAAAEAAAQAAAAAAQAAAAAAAAABAAACAAAAAAEAAAoAAAAAAQAABAAAAAABAAAAAAAAAAEAAAIAAAAAAQAACgAAAAABAAAEAAAAAAEAAAAAAAAAAQAAAgAAAAABAAAGAAAAAAEAAAIAAAAAAQAABgAAAAABAAACAAAAAAEAAAYAAAAAAQAAAgAAAAABAAAGAAAAAAEAAAIAAAAAAQAABgAAAAABAAACAAAAAAEAAAYAAAAAAQAAAgAAAAACAAAEAAAAAAEAAAgAAAAAAgAAAgAAAAABAAAGAAAAAAEAAAIAAAAAAQAABgAAAAABAAACAAAAAAEAAAoAAAAAAQAABAAAAAABAAAAAAAAAAEAAAIAAAAAAQAABgAAAAABAAACAAAAAAEAAAYAAAAAAQAAAgAAAAABAAAKAAAAAAEAAAQAAAAAAQAAAAAAAAABAAACAAAAAAEAAAYAAAAAAQAAAgAAAAABAAAGAAAAAAEAAAIAAAAAAQAACgAAAAABAAAEAAAAAAEAAAAAAAAAAQAAAgAAAAABAAAGAAAAAAEAAAIAAAAAAQAABgAAAAABAAACAAAAAAEAAAoAAAAAAQAABAAAAAABAAAAAAAAAAEAAAIAAAAAAQAABAAAAAABAAAIAAAAAAIAAAIAAAAAAQAABgAAAAABAAACAAAAAAEAAAoAAAAAAQAABAAAAAABAAAAAAAAAAEAAAIAAAAAAQAABgAAAAABAAACAAAAAAEAAAYAAAAAAQAAAgAAAAABAAAKAAAAAAEAAAQAAAAAAQAAAAAAAAABAAACAAAAAAEAAAoAAAAAAQAABAAAAAABAAAAAAAAAAEAAAIAAAAAAQAABgAAAAABAAACAAAAAAEAAAgAAAAAAgAAAgAAAAAcc3RzYwAAAAAAAAABAAAAAQAAAMoAAAABAAADPHN0c3oAAAAAAAAAAAAAAMoAAAXWAAAAJQAAAB4AAAAUAAAAIgAAABUAAAASAAAAHwAAABYAAAASAAAAIQAAABQAAAAcAAAAHAAAABwAAAAcAAAAHAAAAB0AAAAdAAAAHgAAABQAAAAgAAAAFAAAABwAAAAWAAAAFAAAAB0AAAAjAAAAFAAAABwAAAAcAAAAHAAAABwAAAAdAAAAIQAAABMAAAAcAAAAHAAAABwAAAAdAAAAJAAAABkAAAATAAAAFAAAACAAAAAUAAAAIAAAABQAAAAgAAAAFAAAACAAAAAUAAAAIAAAABQAAAAgAAAAFAAAACAAAAAUAAAAHQAAABYAAAAUAAAAFgAAABcAAAAUAAAAFAAAACEAAAAUAAAAHQAAACEAAAAZAAAAEwAAABQAAAAeAAAAFgAAABAAAAATAAAAEwAAABYAAAAQAAAAEwAAABMAAAAWAAAAEAAAABMAAAATAAAAHgAAAB8AAAAWAAAAFAAAAB8AAAAUAAAAEwAAABQAAAAhAAAAFAAAAB4AAAAUAAAAHAAAABQAAAATAAAAFAAAACAAAAAUAAAAHgAAABQAAAAVAAAAEAAAABMAAAATAAAAIgAAABQAAAAiAAAAFAAAAB0AAAAWAAAAFgAAABQAAAAUAAAAIAAAABkAAAAUAAAAFAAAABYAAAAXAAAAEwAAABQAAAAhAAAAFAAAACAAAAAUAAAAIAAAABQAAAAgAAAAFAAAACAAAAAUAAAAIAAAABQAAAAcAAAAHAAAACEAAAAWAAAAFAAAACAAAAAUAAAAHgAAABQAAAAcAAAAFAAAABMAAAAUAAAAIAAAABQAAAAeAAAAFAAAABwAAAAUAAAAEwAAABQAAAAgAAAAFAAAAB4AAAAUAAAAHAAAABQAAAATAAAAFAAAACAAAAAUAAAAHQAAABQAAAAcAAAAFAAAABMAAAAUAAAAHgAAAB4AAAAWAAAAFAAAACAAAAAUAAAAIAAAABQAAAATAAAAFAAAACAAAAAUAAAAHgAAABQAAAAcAAAAFAAAABMAAAAUAAAAFgAAABAAAAAUAAAAEwAAACEAAAAUAAAAHgAAACoAAAAmAAAAFHN0Y28AAAAAAAAAAQAAADAAAABidWR0YQAAAFptZXRhAAAAAAAAACFoZGxyAAAAAAAAAABtZGlyYXBwbAAAAAAAAAAAAAAAAC1pbHN0AAAAJal0b28AAAAdZGF0YQAAAAEAAAAATGF2ZjU3LjgzLjEwMA==\" type=\"video/mp4\" />\n",
              "             </video>"
            ],
            "text/plain": [
              "<IPython.core.display.HTML object>"
            ]
          },
          "metadata": {
            "tags": []
          },
          "execution_count": 50
        }
      ]
    },
    {
      "cell_type": "markdown",
      "metadata": {
        "id": "458mexDDgfVU",
        "colab_type": "text"
      },
      "source": [
        "We can see that the agent doesn't explore its environment when he doesn't see any cheese to eat. This is a big issue when the temperature is low (i.e. there is little cheese on the grid) and the rat gets stuck in a corner very fast and doesn't pick up all the cheese from the map even if they are easily reachable."
      ]
    },
    {
      "cell_type": "markdown",
      "metadata": {
        "id": "4_y1nAprgfVV",
        "colab_type": "text"
      },
      "source": [
        "***\n",
        "\n",
        "The algorithm tends to not explore the map which can be an issue. We propose two ideas in order to encourage exploration:\n",
        "1. Incorporating a decreasing $\\epsilon$-greedy exploration. You can use the method ```set_epsilon```\n",
        "2. Append via the environment a new state that describes if a cell has been visited or not\n",
        "\n",
        "***\n",
        "__Question 10__ Design a new ```train_explore``` function and environment class ```EnvironmentExploring``` to tackle the issue of exploration.\n",
        "\n"
      ]
    },
    {
      "cell_type": "code",
      "metadata": {
        "colab_type": "code",
        "id": "noSWmiaXcow_",
        "colab": {}
      },
      "source": [
        "def train_explore(agent,env,epoch,prefix=''):\n",
        "\n",
        "    # Number of won games\n",
        "    score = 0\n",
        "    loss = 0\n",
        "\n",
        "    for e in range(1,epoch+1):\n",
        "        # At each epoch, we restart to a fresh game and get the initial state\n",
        "        state = env.reset()\n",
        "        # This assumes that the games will terminate\n",
        "        game_over = False\n",
        "\n",
        "        win = 0\n",
        "        lose = 0\n",
        "\n",
        "        while not game_over:\n",
        "            # The agent performs an action\n",
        "            action = agent.act(state)\n",
        "\n",
        "            # Apply an action to the environment, get the next state, the reward\n",
        "            # and if the games end\n",
        "            prev_state = state\n",
        "            state, reward, game_over, real_reward = env.act(action, train=True)\n",
        "\n",
        "            # Update the counters\n",
        "            if real_reward > 0:\n",
        "                win = win + real_reward\n",
        "            if real_reward < 0:\n",
        "                lose = lose -real_reward\n",
        "\n",
        "            # Apply the reinforcement strategy\n",
        "            loss = agent.reinforce(prev_state, state,  action, reward, game_over)\n",
        "\n",
        "        # Save as a mp4\n",
        "        if e % 10 == 0:\n",
        "            agent.set_epsilon(agent.epsilon-agent.epsilon/20)\n",
        "            print(\"Current epsilon value :\",agent.epsilon)\n",
        "            env.draw(prefix+str(e))\n",
        "        \n",
        "        # Update stats\n",
        "        score += win-lose\n",
        "\n",
        "        print(\"Epoch {:03d}/{:03d} | Loss {:.4f} | Win/lose count {}/{} ({})\"\n",
        "              .format(e, epoch, loss, win, lose, win-lose))\n",
        "        agent.save(name_weights=prefix+'model.h5',name_model=prefix+'model.json')\n",
        "        \n",
        "class EnvironmentExploring(Environment):\n",
        "    def __init__(self, grid_size=10, max_time=500, temperature=0.1):\n",
        "       super().__init__(grid_size,max_time,temperature)\n",
        "       self.malus_position=np.zeros((grid_size,grid_size))\n",
        "    \n",
        "    def reset(self):\n",
        "      super().reset()\n",
        "      self.malus_position=np.zeros((self.grid_size,self.grid_size))\n",
        "\n",
        "      state = np.concatenate((self.malus_position.reshape(self.grid_size, self.grid_size,1),\n",
        "                                        self.board.reshape(self.grid_size, self.grid_size,1),\n",
        "                                self.position.reshape(self.grid_size, self.grid_size,1)),axis=2)\n",
        "      \n",
        "\n",
        "      return state[self.x - 2:self.x + 3, self.y - 2:self.y + 3, :]\n",
        "    \n",
        "    def act(self, action, train=False):\n",
        "        state, reward, game_over = super().act(action)\n",
        "        real_reward=reward\n",
        "        if train:\n",
        "            reward -= self.malus_position[self.x, self.y]\n",
        "        self.malus_position[self.x, self.y] += 0.2\n",
        "        self.malus_position[self.x, self.y]=np.minimum(self.malus_position[self.x, self.y],0.4)\n",
        "\n",
        "        # 3 \"feature\" states instead of 2\n",
        "        state = np.concatenate((self.malus_position.reshape(self.grid_size, self.grid_size,1),\n",
        "                                        self.board.reshape(self.grid_size, self.grid_size,1),\n",
        "                                self.position.reshape(self.grid_size, self.grid_size,1)),axis=2)\n",
        "        state=state[self.x - 2:self.x + 3, self.y - 2:self.y + 3, :]\n",
        "        if train:\n",
        "          return state,reward,game_over,real_reward\n",
        "        return state,real_reward,game_over\n",
        "\n"
      ],
      "execution_count": 0,
      "outputs": []
    },
    {
      "cell_type": "code",
      "metadata": {
        "id": "em23eWKagfVd",
        "colab_type": "code",
        "colab": {
          "base_uri": "https://localhost:8080/",
          "height": 1000
        },
        "outputId": "a26c8bf1-e973-4e17-ab88-6458438b2bf8"
      },
      "source": [
        "# Training\n",
        "epochs_train=200\n",
        "\n",
        "env = EnvironmentExploring(grid_size=size, max_time=T, temperature=0.3)\n",
        "agent = DQN_CNN(size, lr=.0001, epsilon = 0.1, memory_size=2000, batch_size = 128,n_state=3)\n",
        "train_explore(agent, env, epochs_train, prefix='cnn_train_explore')\n",
        "HTML(display_videos('cnn_train_explore10.mp4'))"
      ],
      "execution_count": 52,
      "outputs": [
        {
          "output_type": "stream",
          "text": [
            "Epoch 001/200 | Loss 0.0360 | Win/lose count 8.0/9.0 (-1.0)\n",
            "Epoch 002/200 | Loss 0.0410 | Win/lose count 10.0/14.0 (-4.0)\n",
            "Epoch 003/200 | Loss 0.0058 | Win/lose count 5.0/6.0 (-1.0)\n",
            "Epoch 004/200 | Loss 0.0169 | Win/lose count 2.0/2.0 (0.0)\n",
            "Epoch 005/200 | Loss 0.0183 | Win/lose count 3.0/7.0 (-4.0)\n",
            "Epoch 006/200 | Loss 0.0171 | Win/lose count 6.5/9.0 (-2.5)\n",
            "Epoch 007/200 | Loss 0.0286 | Win/lose count 4.5/7.0 (-2.5)\n",
            "Epoch 008/200 | Loss 0.0043 | Win/lose count 11.0/12.0 (-1.0)\n",
            "Epoch 009/200 | Loss 0.0083 | Win/lose count 12.5/10.0 (2.5)\n",
            "Current epsilon value : 0.095\n",
            "Epoch 010/200 | Loss 0.0073 | Win/lose count 11.0/13.0 (-2.0)\n",
            "Epoch 011/200 | Loss 0.0057 | Win/lose count 11.5/6.0 (5.5)\n",
            "Epoch 012/200 | Loss 0.0060 | Win/lose count 8.0/7.0 (1.0)\n",
            "Epoch 013/200 | Loss 0.0053 | Win/lose count 11.0/19.0 (-8.0)\n",
            "Epoch 014/200 | Loss 0.0063 | Win/lose count 5.0/17.0 (-12.0)\n",
            "Epoch 015/200 | Loss 0.0312 | Win/lose count 10.0/11.0 (-1.0)\n",
            "Epoch 016/200 | Loss 0.0221 | Win/lose count 11.5/19.0 (-7.5)\n",
            "Epoch 017/200 | Loss 0.0059 | Win/lose count 9.0/13.0 (-4.0)\n",
            "Epoch 018/200 | Loss 0.0100 | Win/lose count 16.0/11.0 (5.0)\n",
            "Epoch 019/200 | Loss 0.0103 | Win/lose count 19.5/16.0 (3.5)\n",
            "Current epsilon value : 0.09025\n",
            "Epoch 020/200 | Loss 0.0254 | Win/lose count 16.0/16.0 (0.0)\n",
            "Epoch 021/200 | Loss 0.0213 | Win/lose count 12.5/10.0 (2.5)\n",
            "Epoch 022/200 | Loss 0.0106 | Win/lose count 14.5/16.0 (-1.5)\n",
            "Epoch 023/200 | Loss 0.0310 | Win/lose count 12.5/8.0 (4.5)\n",
            "Epoch 024/200 | Loss 0.0154 | Win/lose count 15.5/8.0 (7.5)\n",
            "Epoch 025/200 | Loss 0.0288 | Win/lose count 15.5/16.0 (-0.5)\n",
            "Epoch 026/200 | Loss 0.0288 | Win/lose count 24.0/20.0 (4.0)\n",
            "Epoch 027/200 | Loss 0.0225 | Win/lose count 19.5/16.0 (3.5)\n",
            "Epoch 028/200 | Loss 0.0334 | Win/lose count 21.0/12.0 (9.0)\n",
            "Epoch 029/200 | Loss 0.0393 | Win/lose count 19.0/15.0 (4.0)\n",
            "Current epsilon value : 0.0857375\n",
            "Epoch 030/200 | Loss 0.0241 | Win/lose count 18.0/9.0 (9.0)\n",
            "Epoch 031/200 | Loss 0.0475 | Win/lose count 18.0/13.0 (5.0)\n",
            "Epoch 032/200 | Loss 0.0255 | Win/lose count 19.5/14.0 (5.5)\n",
            "Epoch 033/200 | Loss 0.0333 | Win/lose count 20.5/16.0 (4.5)\n",
            "Epoch 034/200 | Loss 0.0361 | Win/lose count 28.5/14.0 (14.5)\n",
            "Epoch 035/200 | Loss 0.0666 | Win/lose count 21.0/20.0 (1.0)\n",
            "Epoch 036/200 | Loss 0.0435 | Win/lose count 11.0/12.0 (-1.0)\n",
            "Epoch 037/200 | Loss 0.0359 | Win/lose count 22.0/10.0 (12.0)\n",
            "Epoch 038/200 | Loss 0.0443 | Win/lose count 19.5/10.0 (9.5)\n",
            "Epoch 039/200 | Loss 0.0636 | Win/lose count 21.0/10.0 (11.0)\n",
            "Current epsilon value : 0.081450625\n",
            "Epoch 040/200 | Loss 0.0368 | Win/lose count 14.5/9.0 (5.5)\n",
            "Epoch 041/200 | Loss 0.0512 | Win/lose count 21.5/13.0 (8.5)\n",
            "Epoch 042/200 | Loss 0.0570 | Win/lose count 24.5/17.0 (7.5)\n",
            "Epoch 043/200 | Loss 0.0420 | Win/lose count 18.0/11.0 (7.0)\n",
            "Epoch 044/200 | Loss 0.0432 | Win/lose count 18.0/24.0 (-6.0)\n",
            "Epoch 045/200 | Loss 0.0538 | Win/lose count 17.5/11.0 (6.5)\n",
            "Epoch 046/200 | Loss 0.0452 | Win/lose count 19.5/10.0 (9.5)\n",
            "Epoch 047/200 | Loss 0.0364 | Win/lose count 23.0/20.0 (3.0)\n",
            "Epoch 048/200 | Loss 0.0616 | Win/lose count 19.0/11.0 (8.0)\n",
            "Epoch 049/200 | Loss 0.0411 | Win/lose count 19.5/13.0 (6.5)\n",
            "Current epsilon value : 0.07737809375\n",
            "Epoch 050/200 | Loss 0.0555 | Win/lose count 21.5/17.0 (4.5)\n",
            "Epoch 051/200 | Loss 0.0568 | Win/lose count 20.5/13.0 (7.5)\n",
            "Epoch 052/200 | Loss 0.0752 | Win/lose count 29.0/9.0 (20.0)\n",
            "Epoch 053/200 | Loss 0.0522 | Win/lose count 19.5/11.0 (8.5)\n",
            "Epoch 054/200 | Loss 0.0717 | Win/lose count 24.0/12.0 (12.0)\n",
            "Epoch 055/200 | Loss 0.0690 | Win/lose count 27.5/14.0 (13.5)\n",
            "Epoch 056/200 | Loss 0.0645 | Win/lose count 15.0/2.0 (13.0)\n",
            "Epoch 057/200 | Loss 0.0591 | Win/lose count 8.0/3.0 (5.0)\n",
            "Epoch 058/200 | Loss 0.0656 | Win/lose count 13.5/15.0 (-1.5)\n",
            "Epoch 059/200 | Loss 0.0596 | Win/lose count 24.5/15.0 (9.5)\n",
            "Current epsilon value : 0.07350918906250001\n",
            "Epoch 060/200 | Loss 0.0607 | Win/lose count 21.5/15.0 (6.5)\n",
            "Epoch 061/200 | Loss 0.0636 | Win/lose count 16.5/16.0 (0.5)\n",
            "Epoch 062/200 | Loss 0.0479 | Win/lose count 24.5/18.0 (6.5)\n",
            "Epoch 063/200 | Loss 0.0739 | Win/lose count 20.5/14.0 (6.5)\n",
            "Epoch 064/200 | Loss 0.0616 | Win/lose count 22.5/16.0 (6.5)\n",
            "Epoch 065/200 | Loss 0.0592 | Win/lose count 24.0/14.0 (10.0)\n",
            "Epoch 066/200 | Loss 0.0612 | Win/lose count 20.5/8.0 (12.5)\n",
            "Epoch 067/200 | Loss 0.0548 | Win/lose count 23.5/22.0 (1.5)\n",
            "Epoch 068/200 | Loss 0.0790 | Win/lose count 23.0/18.0 (5.0)\n",
            "Epoch 069/200 | Loss 0.0608 | Win/lose count 20.5/6.0 (14.5)\n",
            "Current epsilon value : 0.069833729609375\n",
            "Epoch 070/200 | Loss 0.0695 | Win/lose count 19.0/14.0 (5.0)\n",
            "Epoch 071/200 | Loss 0.0832 | Win/lose count 23.5/16.0 (7.5)\n",
            "Epoch 072/200 | Loss 0.0569 | Win/lose count 19.5/16.0 (3.5)\n",
            "Epoch 073/200 | Loss 0.0757 | Win/lose count 20.0/11.0 (9.0)\n",
            "Epoch 074/200 | Loss 0.0707 | Win/lose count 23.0/26.0 (-3.0)\n",
            "Epoch 075/200 | Loss 0.0835 | Win/lose count 19.5/22.0 (-2.5)\n",
            "Epoch 076/200 | Loss 0.0564 | Win/lose count 18.5/16.0 (2.5)\n",
            "Epoch 077/200 | Loss 0.0606 | Win/lose count 23.0/15.0 (8.0)\n",
            "Epoch 078/200 | Loss 0.0579 | Win/lose count 19.5/20.0 (-0.5)\n",
            "Epoch 079/200 | Loss 0.0840 | Win/lose count 23.0/14.0 (9.0)\n",
            "Current epsilon value : 0.06634204312890625\n",
            "Epoch 080/200 | Loss 0.0491 | Win/lose count 23.0/18.0 (5.0)\n",
            "Epoch 081/200 | Loss 0.0433 | Win/lose count 21.5/10.0 (11.5)\n",
            "Epoch 082/200 | Loss 0.0359 | Win/lose count 21.5/17.0 (4.5)\n",
            "Epoch 083/200 | Loss 0.0609 | Win/lose count 20.0/21.0 (-1.0)\n",
            "Epoch 084/200 | Loss 0.0522 | Win/lose count 25.5/20.0 (5.5)\n",
            "Epoch 085/200 | Loss 0.0674 | Win/lose count 21.5/21.0 (0.5)\n",
            "Epoch 086/200 | Loss 0.0559 | Win/lose count 24.0/23.0 (1.0)\n",
            "Epoch 087/200 | Loss 0.0579 | Win/lose count 25.0/8.0 (17.0)\n",
            "Epoch 088/200 | Loss 0.0841 | Win/lose count 21.0/16.0 (5.0)\n",
            "Epoch 089/200 | Loss 0.0568 | Win/lose count 31.0/19.0 (12.0)\n",
            "Current epsilon value : 0.06302494097246093\n",
            "Epoch 090/200 | Loss 0.0669 | Win/lose count 20.0/17.0 (3.0)\n",
            "Epoch 091/200 | Loss 0.0546 | Win/lose count 21.0/13.0 (8.0)\n",
            "Epoch 092/200 | Loss 0.0550 | Win/lose count 22.0/18.0 (4.0)\n",
            "Epoch 093/200 | Loss 0.0683 | Win/lose count 23.5/11.0 (12.5)\n",
            "Epoch 094/200 | Loss 0.0664 | Win/lose count 23.0/13.0 (10.0)\n",
            "Epoch 095/200 | Loss 0.0517 | Win/lose count 24.0/16.0 (8.0)\n",
            "Epoch 096/200 | Loss 0.0461 | Win/lose count 22.5/15.0 (7.5)\n",
            "Epoch 097/200 | Loss 0.0639 | Win/lose count 21.0/15.0 (6.0)\n",
            "Epoch 098/200 | Loss 0.0700 | Win/lose count 22.0/17.0 (5.0)\n",
            "Epoch 099/200 | Loss 0.0738 | Win/lose count 17.5/11.0 (6.5)\n",
            "Current epsilon value : 0.05987369392383789\n",
            "Epoch 100/200 | Loss 0.0547 | Win/lose count 17.5/12.0 (5.5)\n",
            "Epoch 101/200 | Loss 0.0421 | Win/lose count 24.5/13.0 (11.5)\n",
            "Epoch 102/200 | Loss 0.0551 | Win/lose count 21.5/8.0 (13.5)\n",
            "Epoch 103/200 | Loss 0.0694 | Win/lose count 19.5/16.0 (3.5)\n",
            "Epoch 104/200 | Loss 0.1072 | Win/lose count 21.5/21.0 (0.5)\n",
            "Epoch 105/200 | Loss 0.0403 | Win/lose count 24.5/16.0 (8.5)\n",
            "Epoch 106/200 | Loss 0.0698 | Win/lose count 21.0/17.0 (4.0)\n",
            "Epoch 107/200 | Loss 0.0459 | Win/lose count 16.5/12.0 (4.5)\n",
            "Epoch 108/200 | Loss 0.0472 | Win/lose count 20.5/20.0 (0.5)\n",
            "Epoch 109/200 | Loss 0.0744 | Win/lose count 19.0/14.0 (5.0)\n",
            "Current epsilon value : 0.056880009227645995\n",
            "Epoch 110/200 | Loss 0.0371 | Win/lose count 24.5/23.0 (1.5)\n",
            "Epoch 111/200 | Loss 0.0647 | Win/lose count 23.0/21.0 (2.0)\n",
            "Epoch 112/200 | Loss 0.0552 | Win/lose count 23.0/19.0 (4.0)\n",
            "Epoch 113/200 | Loss 0.0472 | Win/lose count 20.0/11.0 (9.0)\n",
            "Epoch 114/200 | Loss 0.0548 | Win/lose count 24.0/14.0 (10.0)\n",
            "Epoch 115/200 | Loss 0.0732 | Win/lose count 30.0/22.0 (8.0)\n",
            "Epoch 116/200 | Loss 0.0553 | Win/lose count 20.5/17.0 (3.5)\n",
            "Epoch 117/200 | Loss 0.0810 | Win/lose count 23.0/12.0 (11.0)\n",
            "Epoch 118/200 | Loss 0.0510 | Win/lose count 22.0/18.0 (4.0)\n",
            "Epoch 119/200 | Loss 0.0715 | Win/lose count 28.5/15.0 (13.5)\n",
            "Current epsilon value : 0.054036008766263695\n",
            "Epoch 120/200 | Loss 0.0761 | Win/lose count 21.5/25.0 (-3.5)\n",
            "Epoch 121/200 | Loss 0.0907 | Win/lose count 18.0/11.0 (7.0)\n",
            "Epoch 122/200 | Loss 0.0864 | Win/lose count 23.0/15.0 (8.0)\n",
            "Epoch 123/200 | Loss 0.0722 | Win/lose count 23.0/13.0 (10.0)\n",
            "Epoch 124/200 | Loss 0.0678 | Win/lose count 28.0/16.0 (12.0)\n",
            "Epoch 125/200 | Loss 0.0700 | Win/lose count 17.5/6.0 (11.5)\n",
            "Epoch 126/200 | Loss 0.0675 | Win/lose count 16.5/16.0 (0.5)\n",
            "Epoch 127/200 | Loss 0.0485 | Win/lose count 23.5/19.0 (4.5)\n",
            "Epoch 128/200 | Loss 0.0795 | Win/lose count 22.0/22.0 (0.0)\n",
            "Epoch 129/200 | Loss 0.0538 | Win/lose count 23.0/15.0 (8.0)\n",
            "Current epsilon value : 0.05133420832795051\n",
            "Epoch 130/200 | Loss 0.0606 | Win/lose count 24.0/12.0 (12.0)\n",
            "Epoch 131/200 | Loss 0.0646 | Win/lose count 21.0/19.0 (2.0)\n",
            "Epoch 132/200 | Loss 0.0535 | Win/lose count 20.0/18.0 (2.0)\n",
            "Epoch 133/200 | Loss 0.0691 | Win/lose count 24.5/16.0 (8.5)\n",
            "Epoch 134/200 | Loss 0.0875 | Win/lose count 22.0/17.0 (5.0)\n",
            "Epoch 135/200 | Loss 0.0882 | Win/lose count 22.5/16.0 (6.5)\n",
            "Epoch 136/200 | Loss 0.0581 | Win/lose count 23.0/21.0 (2.0)\n",
            "Epoch 137/200 | Loss 0.0625 | Win/lose count 17.0/17.0 (0.0)\n",
            "Epoch 138/200 | Loss 0.0691 | Win/lose count 15.5/17.0 (-1.5)\n",
            "Epoch 139/200 | Loss 0.0605 | Win/lose count 19.5/22.0 (-2.5)\n",
            "Current epsilon value : 0.048767497911552986\n",
            "Epoch 140/200 | Loss 0.0625 | Win/lose count 20.0/22.0 (-2.0)\n",
            "Epoch 141/200 | Loss 0.0498 | Win/lose count 22.5/18.0 (4.5)\n",
            "Epoch 142/200 | Loss 0.0578 | Win/lose count 25.0/10.0 (15.0)\n",
            "Epoch 143/200 | Loss 0.0651 | Win/lose count 23.5/18.0 (5.5)\n",
            "Epoch 144/200 | Loss 0.0715 | Win/lose count 25.0/14.0 (11.0)\n",
            "Epoch 145/200 | Loss 0.0467 | Win/lose count 23.0/15.0 (8.0)\n",
            "Epoch 146/200 | Loss 0.0678 | Win/lose count 28.5/10.0 (18.5)\n",
            "Epoch 147/200 | Loss 0.0846 | Win/lose count 23.0/19.0 (4.0)\n",
            "Epoch 148/200 | Loss 0.0860 | Win/lose count 24.0/23.0 (1.0)\n",
            "Epoch 149/200 | Loss 0.0606 | Win/lose count 28.0/15.0 (13.0)\n",
            "Current epsilon value : 0.04632912301597534\n",
            "Epoch 150/200 | Loss 0.0726 | Win/lose count 24.5/20.0 (4.5)\n",
            "Epoch 151/200 | Loss 0.0641 | Win/lose count 25.5/17.0 (8.5)\n",
            "Epoch 152/200 | Loss 0.0971 | Win/lose count 23.5/25.0 (-1.5)\n",
            "Epoch 153/200 | Loss 0.0724 | Win/lose count 21.5/13.0 (8.5)\n",
            "Epoch 154/200 | Loss 0.0689 | Win/lose count 20.0/11.0 (9.0)\n",
            "Epoch 155/200 | Loss 0.0750 | Win/lose count 19.0/17.0 (2.0)\n",
            "Epoch 156/200 | Loss 0.0822 | Win/lose count 25.0/14.0 (11.0)\n",
            "Epoch 157/200 | Loss 0.0808 | Win/lose count 23.5/17.0 (6.5)\n",
            "Epoch 158/200 | Loss 0.0661 | Win/lose count 20.0/17.0 (3.0)\n",
            "Epoch 159/200 | Loss 0.0507 | Win/lose count 22.0/27.0 (-5.0)\n",
            "Current epsilon value : 0.044012666865176575\n",
            "Epoch 160/200 | Loss 0.0780 | Win/lose count 21.5/18.0 (3.5)\n",
            "Epoch 161/200 | Loss 0.0571 | Win/lose count 20.0/19.0 (1.0)\n",
            "Epoch 162/200 | Loss 0.0551 | Win/lose count 25.5/18.0 (7.5)\n",
            "Epoch 163/200 | Loss 0.0651 | Win/lose count 22.5/19.0 (3.5)\n",
            "Epoch 164/200 | Loss 0.0557 | Win/lose count 25.5/22.0 (3.5)\n",
            "Epoch 165/200 | Loss 0.1065 | Win/lose count 27.5/11.0 (16.5)\n",
            "Epoch 166/200 | Loss 0.0665 | Win/lose count 23.0/13.0 (10.0)\n",
            "Epoch 167/200 | Loss 0.0715 | Win/lose count 21.0/11.0 (10.0)\n",
            "Epoch 168/200 | Loss 0.0478 | Win/lose count 21.5/27.0 (-5.5)\n",
            "Epoch 169/200 | Loss 0.0530 | Win/lose count 22.0/17.0 (5.0)\n",
            "Current epsilon value : 0.041812033521917744\n",
            "Epoch 170/200 | Loss 0.0892 | Win/lose count 17.0/7.0 (10.0)\n",
            "Epoch 171/200 | Loss 0.0632 | Win/lose count 28.0/15.0 (13.0)\n",
            "Epoch 172/200 | Loss 0.0410 | Win/lose count 27.0/21.0 (6.0)\n",
            "Epoch 173/200 | Loss 0.0842 | Win/lose count 19.0/11.0 (8.0)\n",
            "Epoch 174/200 | Loss 0.0755 | Win/lose count 24.5/11.0 (13.5)\n",
            "Epoch 175/200 | Loss 0.0647 | Win/lose count 23.0/21.0 (2.0)\n",
            "Epoch 176/200 | Loss 0.0660 | Win/lose count 21.5/16.0 (5.5)\n",
            "Epoch 177/200 | Loss 0.0756 | Win/lose count 22.0/16.0 (6.0)\n",
            "Epoch 178/200 | Loss 0.0736 | Win/lose count 18.0/12.0 (6.0)\n",
            "Epoch 179/200 | Loss 0.0560 | Win/lose count 26.0/16.0 (10.0)\n",
            "Current epsilon value : 0.03972143184582186\n",
            "Epoch 180/200 | Loss 0.1125 | Win/lose count 19.0/17.0 (2.0)\n",
            "Epoch 181/200 | Loss 0.0769 | Win/lose count 21.0/10.0 (11.0)\n",
            "Epoch 182/200 | Loss 0.0950 | Win/lose count 29.0/24.0 (5.0)\n",
            "Epoch 183/200 | Loss 0.0907 | Win/lose count 26.5/16.0 (10.5)\n",
            "Epoch 184/200 | Loss 0.0677 | Win/lose count 19.5/22.0 (-2.5)\n",
            "Epoch 185/200 | Loss 0.0875 | Win/lose count 21.5/15.0 (6.5)\n",
            "Epoch 186/200 | Loss 0.0515 | Win/lose count 22.5/13.0 (9.5)\n",
            "Epoch 187/200 | Loss 0.0488 | Win/lose count 24.0/21.0 (3.0)\n",
            "Epoch 188/200 | Loss 0.0637 | Win/lose count 21.0/11.0 (10.0)\n",
            "Epoch 189/200 | Loss 0.1056 | Win/lose count 15.5/14.0 (1.5)\n",
            "Current epsilon value : 0.03773536025353077\n",
            "Epoch 190/200 | Loss 0.1048 | Win/lose count 20.5/25.0 (-4.5)\n",
            "Epoch 191/200 | Loss 0.0474 | Win/lose count 22.0/22.0 (0.0)\n",
            "Epoch 192/200 | Loss 0.0644 | Win/lose count 26.5/31.0 (-4.5)\n",
            "Epoch 193/200 | Loss 0.0786 | Win/lose count 22.5/13.0 (9.5)\n",
            "Epoch 194/200 | Loss 0.0572 | Win/lose count 22.0/12.0 (10.0)\n",
            "Epoch 195/200 | Loss 0.0707 | Win/lose count 19.5/16.0 (3.5)\n",
            "Epoch 196/200 | Loss 0.0765 | Win/lose count 18.5/25.0 (-6.5)\n",
            "Epoch 197/200 | Loss 0.0598 | Win/lose count 21.5/14.0 (7.5)\n",
            "Epoch 198/200 | Loss 0.0633 | Win/lose count 27.5/20.0 (7.5)\n",
            "Epoch 199/200 | Loss 0.0616 | Win/lose count 21.0/11.0 (10.0)\n",
            "Current epsilon value : 0.03584859224085423\n",
            "Epoch 200/200 | Loss 0.0618 | Win/lose count 21.0/17.0 (4.0)\n"
          ],
          "name": "stdout"
        },
        {
          "output_type": "execute_result",
          "data": {
            "text/html": [
              "<video alt=\"test\" controls>\n",
              "                <source src=\"data:video/mp4;base64,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\" type=\"video/mp4\" />\n",
              "             </video>"
            ],
            "text/plain": [
              "<IPython.core.display.HTML object>"
            ]
          },
          "metadata": {
            "tags": []
          },
          "execution_count": 52
        }
      ]
    },
    {
      "cell_type": "code",
      "metadata": {
        "id": "9pQtePU37-Sj",
        "colab_type": "code",
        "colab": {
          "base_uri": "https://localhost:8080/",
          "height": 293
        },
        "outputId": "78e15248-3e18-489d-ccdb-b41c0655b766"
      },
      "source": [
        "HTML(display_videos('cnn_train_explore200.mp4'))\n"
      ],
      "execution_count": 53,
      "outputs": [
        {
          "output_type": "execute_result",
          "data": {
            "text/html": [
              "<video alt=\"test\" controls>\n",
              "                <source src=\"data:video/mp4;base64,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\" type=\"video/mp4\" />\n",
              "             </video>"
            ],
            "text/plain": [
              "<IPython.core.display.HTML object>"
            ]
          },
          "metadata": {
            "tags": []
          },
          "execution_count": 53
        }
      ]
    },
    {
      "cell_type": "code",
      "metadata": {
        "id": "SBmB_CyHgfVj",
        "colab_type": "code",
        "colab": {
          "base_uri": "https://localhost:8080/",
          "height": 735
        },
        "outputId": "1e1c1745-de50-4b36-a73d-b70a0171ff36"
      },
      "source": [
        "# Evaluation\n",
        "test(agent,env,epochs_test,prefix='cnn_test_explore')\n",
        "HTML(display_videos('cnn_test_explore24.mp4'))"
      ],
      "execution_count": 56,
      "outputs": [
        {
          "output_type": "stream",
          "text": [
            "Win/lose count 27.0/19.0. Average score (8.0)\n",
            "Win/lose count 18.0/19.0. Average score (3.5)\n",
            "Win/lose count 19.5/23.0. Average score (1.1666666666666667)\n",
            "Win/lose count 26.5/14.0. Average score (4.0)\n",
            "Win/lose count 24.0/18.0. Average score (4.4)\n",
            "Win/lose count 18.5/19.0. Average score (3.5833333333333335)\n",
            "Win/lose count 22.0/18.0. Average score (3.642857142857143)\n",
            "Win/lose count 21.5/22.0. Average score (3.125)\n",
            "Win/lose count 23.0/18.0. Average score (3.3333333333333335)\n",
            "Win/lose count 21.5/18.0. Average score (3.35)\n",
            "Win/lose count 20.5/17.0. Average score (3.3636363636363638)\n",
            "Win/lose count 15.5/12.0. Average score (3.375)\n",
            "Win/lose count 23.0/13.0. Average score (3.8846153846153846)\n",
            "Win/lose count 17.0/11.0. Average score (4.035714285714286)\n",
            "Win/lose count 19.5/15.0. Average score (4.066666666666666)\n",
            "Win/lose count 22.5/7.0. Average score (4.78125)\n",
            "Win/lose count 20.5/10.0. Average score (5.117647058823529)\n",
            "Win/lose count 29.5/16.0. Average score (5.583333333333333)\n",
            "Win/lose count 18.0/15.0. Average score (5.447368421052632)\n",
            "Win/lose count 15.5/8.0. Average score (5.55)\n",
            "Win/lose count 22.0/17.0. Average score (5.523809523809524)\n",
            "Win/lose count 25.5/18.0. Average score (5.613636363636363)\n",
            "Win/lose count 19.0/24.0. Average score (5.1521739130434785)\n",
            "Win/lose count 22.0/18.0. Average score (5.104166666666667)\n",
            "Win/lose count 23.5/16.0. Average score (5.2)\n",
            "Final score: 5.2\n"
          ],
          "name": "stdout"
        },
        {
          "output_type": "execute_result",
          "data": {
            "text/html": [
              "<video alt=\"test\" controls>\n",
              "                <source src=\"data:video/mp4;base64,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\" type=\"video/mp4\" />\n",
              "             </video>"
            ],
            "text/plain": [
              "<IPython.core.display.HTML object>"
            ]
          },
          "metadata": {
            "tags": []
          },
          "execution_count": 56
        }
      ]
    },
    {
      "cell_type": "markdown",
      "metadata": {
        "id": "gmwQScP4gfVo",
        "colab_type": "text"
      },
      "source": [
        "***\n",
        "***\n",
        "__BONUS question__ Use the expert DQN from the previous question to generate some winning games. Train a model that mimicks its behavior. Compare the performances."
      ]
    },
    {
      "cell_type": "markdown",
      "metadata": {
        "id": "0UJg8xwngfVp",
        "colab_type": "text"
      },
      "source": [
        ""
      ]
    },
    {
      "cell_type": "markdown",
      "metadata": {
        "id": "RdZ-7DEfgfVq",
        "colab_type": "text"
      },
      "source": [
        "***"
      ]
    }
  ]
}